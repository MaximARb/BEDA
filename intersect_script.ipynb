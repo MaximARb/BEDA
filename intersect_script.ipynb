{
 "cells": [
  {
   "cell_type": "code",
   "execution_count": 3,
   "id": "8a31b171",
   "metadata": {},
   "outputs": [],
   "source": [
    "import pandas as pd\n",
    "from tqdm import tqdm"
   ]
  },
  {
   "cell_type": "markdown",
   "id": "fc7ff191",
   "metadata": {},
   "source": [
    "## Функции для анализа пересечения сегментов"
   ]
  },
  {
   "cell_type": "code",
   "execution_count": 4,
   "id": "11593f1d",
   "metadata": {},
   "outputs": [],
   "source": [
    "def is_slf_intrsct(markup):    \n",
    "    '''\n",
    "    Функция is_slf_intrsct() определяет факт наличия пересечений\n",
    "    сегментов внутри разметки markup. Требует один аргумент - разметку .deb.\n",
    "    Возвращает True или False.\n",
    "    '''\n",
    "    \n",
    "    # later should adapt for using lesser memory\n",
    "    markup = markup.sort_values(by=[1], ascending=True)\n",
    "    begin_list = list(markup[1])\n",
    "    end_list = list(markup[2])\n",
    "    slf_intrsct = False\n",
    "    for zone_ in tqdm(range(1,len(begin_list))):\n",
    "        if slf_intrsct == True:\n",
    "            break\n",
    "        if end_list[zone_ - 1] > begin_list[zone_]:\n",
    "            slf_intrsct = True\n",
    "    return slf_intrsct\n",
    "\n",
    "def are_zones_intrsct(zone1, zone2):   \n",
    "    '''\n",
    "    Функция are_zones_intrsct() проверяет, пересекаются ли указанные \n",
    "    в агументах отрезки zone1 и zone2. Отрезки должны списками или кортежами длины 2.\n",
    "    Возвращает True или False.\n",
    "    '''\n",
    "    \n",
    "    begin = 0\n",
    "    end = 1\n",
    "    intrsct = False\n",
    "    \n",
    "    if zone1[begin] > zone2[begin]:\n",
    "        zonet = zone2\n",
    "        zone2 = zone1\n",
    "        zone1 = zonet\n",
    "    \n",
    "    def less_cmpr(x1, x2):\n",
    "        if (x1 - x2) <= 0:\n",
    "            return True\n",
    "        else:\n",
    "            return False\n",
    "    \n",
    "    if not all([less_cmpr(zone1[begin], zone2[begin]),\n",
    "                less_cmpr(zone1[end], zone2[end]),\n",
    "                less_cmpr(zone1[end], zone2[begin])]):\n",
    "        intrsct = True\n",
    "    return intrsct\n",
    "\n",
    "def get_intrscts(markup1, markup2, ask_if=False):    \n",
    "    '''\n",
    "    Функция get_intrscts() строит матричное представление графа, построенного на\n",
    "    отношениях пересечений между отрезками разметок markup1 и markup2.\n",
    "    Возвращает объект pd.DataFrame. Если аргумент ask_if=True, то возвращает только True или False.\n",
    "    '''\n",
    "    \n",
    "    begin_list_1 = list(markup1[1])\n",
    "    end_list_1 = list(markup1[2])\n",
    "    begin_list_2 = list(markup2[1])\n",
    "    end_list_2 = list(markup2[2])\n",
    "    df_intrsct = pd.DataFrame(0, index=[i for i in range(1,len(begin_list_2)+1)],\n",
    "                               columns=[i for i in range(1,len(begin_list_1)+1)])\n",
    "    for zone1 in tqdm(range(len(begin_list_1))):\n",
    "        for zone2 in range(len(begin_list_2)):\n",
    "            if are_zones_intrsct([begin_list_1[zone1], end_list_1[zone1]],\n",
    "                                 [begin_list_2[zone2], end_list_2[zone2]]):\n",
    "                if ask_if:\n",
    "                    return True\n",
    "                df_intrsct.loc[zone2+1, zone1+1] = 1\n",
    "    return df_intrsct\n",
    "\n",
    "def get_comm_intrsct(segm1, segm2):    \n",
    "    '''\n",
    "    Функция get_comm_intrsct() возвращает отрезок, являющийся пересечением\n",
    "    отрезков segm1 и segm2.\n",
    "    '''\n",
    "    \n",
    "    begin = 0\n",
    "    end = 1\n",
    "    \n",
    "    if not are_zones_intrsct(segm1, segm2):\n",
    "        print('Segments do not intersect')\n",
    "        return 0\n",
    "    \n",
    "    if segm2[begin] < segm1[begin]:\n",
    "        segmt = segm2\n",
    "        segm2 = segm1\n",
    "        segm1 = segmt\n",
    "    \n",
    "    def less_cmpr(x1, x2):\n",
    "        if (x1 - x2) <= 0:\n",
    "            return True\n",
    "        else:\n",
    "            return False\n",
    "    \n",
    "    def which_case():\n",
    "        nonlocal segm1, segm2\n",
    "        if all([less_cmpr(segm2[begin], segm1[end]),\n",
    "                less_cmpr(segm1[end], segm2[end])]):\n",
    "            return 1\n",
    "        if all([less_cmpr(segm2[begin], segm1[end]),\n",
    "                less_cmpr(segm2[end], segm1[end])]):\n",
    "            return 2\n",
    "        else:\n",
    "            return 0\n",
    "    \n",
    "    intrsct_case = which_case()\n",
    "    if not intrsct_case:\n",
    "        # print('Segments do not intersect correctly')\n",
    "        return 0\n",
    "    if intrsct_case == 1:\n",
    "        return [segm2[begin], segm1[end]]\n",
    "    if intrsct_case == 2:\n",
    "        return [segm2[begin], segm2[end]]\n",
    "    else:\n",
    "        print('Smth is wrong')\n",
    "        return 0\n",
    "    \n",
    "def build_intrscts(markup1, markup2):   \n",
    "    '''\n",
    "    Функция build_intrscts() строит .deb разметку на основе пересечения двух разметок\n",
    "    markup1 и markup2. Возвращает объект pd.DataFrame.\n",
    "    '''\n",
    "    \n",
    "    begin_list_1 = list(markup1[1])\n",
    "    end_list_1 = list(markup1[2])\n",
    "    begin_list_2 = list(markup2[1])\n",
    "    end_list_2 = list(markup2[2])\n",
    "    markup1_len = 0\n",
    "    markup2_len = 0\n",
    "    intrsct_len = 0\n",
    "    \n",
    "    intrsct_markup = pd.DataFrame(columns=[0, 1, 2])\n",
    "    \n",
    "    if markup2[0][0] != markup1[0][0]:\n",
    "        if input('Different chromosomes if files. If no,\\\n",
    "        process will be stopped, else will be used name from 1-st file') == 'no':\n",
    "            return 0\n",
    "    chr_name = markup1[0][0]\n",
    "    \n",
    "    for zone1 in tqdm(range(len(begin_list_1))):\n",
    "        for zone2 in range(len(begin_list_2)):\n",
    "            segm1 = [begin_list_1[zone1], end_list_1[zone1]]\n",
    "            segm2 = [begin_list_2[zone2], end_list_2[zone2]]\n",
    "            markup1_len += segm1[1] - segm1[0]\n",
    "            markup2_len += segm2[1] - segm2[0]\n",
    "            if are_zones_intrsct(segm1, segm2):\n",
    "                intrsct_zone = get_comm_intrsct(segm1, segm2)\n",
    "                intrsct_markup = pd.concat([intrsct_markup,\n",
    "                                            pd.DataFrame([[chr_name] + intrsct_zone],\n",
    "                                                         columns=[0, 1, 2])], ignore_index=True)\n",
    "                intrsct_len += intrsct_zone[1] - intrsct_zone[0]\n",
    "    intrsct_markup.sort_values(by=[1], ascending=True, inplace=True)\n",
    "    print('Общая разметка составляет ', 100*intrsct_len/markup1_len,'% и ',\n",
    "          100*intrsct_len/markup2_len, '% от исходных')\n",
    "    return intrsct_markup"
   ]
  },
  {
   "cell_type": "code",
   "execution_count": 3,
   "id": "29ef9ba4",
   "metadata": {},
   "outputs": [
    {
     "name": "stdout",
     "output_type": "stream",
     "text": [
      "\n",
      "    Функция is_slf_intrsct() определяет факт наличия пересечений\n",
      "    сегментов внутри разметки markup. Требует один аргумент - разметку .deb.\n",
      "    Возвращает True или False.\n",
      "    \n",
      "\n",
      "    Функция are_zones_intrsct() проверяет, пересекаются ли указанные \n",
      "    в агументах отрезки zone1 и zone2. Отрезки должны списками или кортежами длины 2.\n",
      "    Возвращает True или False.\n",
      "    \n",
      "\n",
      "    Функция get_intrscts() строит матричное представление графа, построенного на\n",
      "    отношениях пересечений между отрезками разметок markup1 и markup2.\n",
      "    Возвращает объект pd.DataFrame. Если аргумент ask_if=True, то возвращает только True или False.\n",
      "    \n",
      "\n",
      "    Функция get_comm_intrsct() возвращает отрезок, являющийся пересечением\n",
      "    отрезков segm1 и segm2.\n",
      "    \n",
      "\n",
      "    Функция build_intrscts() строит .deb разметку на основе пересечения двух разметок\n",
      "    markup1 и markup2. Возвращает объект pd.DataFrame.\n",
      "    \n"
     ]
    }
   ],
   "source": [
    "print(is_slf_intrsct.__doc__)\n",
    "print(are_zones_intrsct.__doc__)\n",
    "print(get_intrscts.__doc__)\n",
    "print(get_comm_intrsct.__doc__)\n",
    "print(build_intrscts.__doc__)"
   ]
  },
  {
   "cell_type": "markdown",
   "id": "a453ac0d",
   "metadata": {},
   "source": [
    "## Работа с реальными разметками"
   ]
  },
  {
   "cell_type": "code",
   "execution_count": 4,
   "id": "d4b0ddf9",
   "metadata": {},
   "outputs": [],
   "source": [
    "markup_tair = pd.read_csv(\"списки генов/ups2000_tair10.bed\", sep=\"\\t\", header=None)"
   ]
  },
  {
   "cell_type": "code",
   "execution_count": 5,
   "id": "cedad5b7",
   "metadata": {},
   "outputs": [],
   "source": [
    "# markup_real_1 = pd.read_csv(\"DHS/DHS_Ath_flower_14_days_chr1.bed\", sep=\"\\t\", header=None)\n",
    "markup_real_2 = pd.read_csv(\"GSM2704255_ATAC_seq/GSM2704255_ATAC_chr1.bed\", sep=\"\\t\", header=None)"
   ]
  },
  {
   "cell_type": "markdown",
   "id": "bf51e6bb",
   "metadata": {},
   "source": [
    "### Читаем разметку tair. Проверяем избыточность, т.е. что есть самопересечения."
   ]
  },
  {
   "cell_type": "code",
   "execution_count": 6,
   "id": "56ba0831",
   "metadata": {},
   "outputs": [
    {
     "name": "stderr",
     "output_type": "stream",
     "text": [
      "  0%|▏                                                                                       | 10/3557 [00:00<?, ?it/s]\n",
      "  0%|▏                                                                              | 4/2149 [00:00<00:00, 4011.77it/s]\n",
      "  0%|                                                                                         | 1/2643 [00:00<?, ?it/s]\n",
      "  0%|                                                                                         | 1/2059 [00:00<?, ?it/s]\n",
      "  1%|▋                                                                            | 30/3148 [00:00<00:00, 25642.78it/s]"
     ]
    },
    {
     "name": "stdout",
     "output_type": "stream",
     "text": [
      "True\n",
      "True\n",
      "True\n",
      "True\n",
      "True\n"
     ]
    },
    {
     "name": "stderr",
     "output_type": "stream",
     "text": [
      "\n"
     ]
    }
   ],
   "source": [
    "for chr_name in ['chr1', 'chr2', 'chr3', 'chr4', 'chr5']:\n",
    "    print(is_slf_intrsct(markup_tair.loc[(markup_tair[0] == chr_name) & (markup_tair[3] == '+')]))"
   ]
  },
  {
   "cell_type": "code",
   "execution_count": 11,
   "metadata": {},
   "outputs": [],
   "source": [
    "markup_tair = markup_tair.loc[(markup_tair[0] == 'chr1') & (markup_tair[3] == '+')]"
   ]
  },
  {
   "cell_type": "code",
   "execution_count": 12,
   "id": "edd78d0d",
   "metadata": {},
   "outputs": [
    {
     "name": "stderr",
     "output_type": "stream",
     "text": [
      "  0%|                                                                                | 4/3558 [00:00<00:30, 117.71it/s]\n"
     ]
    },
    {
     "data": {
      "text/plain": [
       "True"
      ]
     },
     "execution_count": 12,
     "metadata": {},
     "output_type": "execute_result"
    }
   ],
   "source": [
    "get_intrscts(markup_tair, markup_real_2, ask_if=True)"
   ]
  },
  {
   "cell_type": "code",
   "execution_count": 13,
   "id": "5d27233d",
   "metadata": {},
   "outputs": [
    {
     "name": "stderr",
     "output_type": "stream",
     "text": [
      "100%|█████████████████████████████████████████████████████████████████████████████| 6196/6196 [00:38<00:00, 161.95it/s]"
     ]
    },
    {
     "name": "stdout",
     "output_type": "stream",
     "text": [
      "Общая разметка составляет  0.011409004729573523 % и  0.002160651162638791 % от исходных\n"
     ]
    },
    {
     "name": "stderr",
     "output_type": "stream",
     "text": [
      "\n"
     ]
    }
   ],
   "source": [
    "df_intrscts = build_intrscts(markup_real_2, markup_tair)"
   ]
  },
  {
   "cell_type": "code",
   "execution_count": 14,
   "id": "fbe147b0",
   "metadata": {},
   "outputs": [
    {
     "data": {
      "text/html": [
       "<div>\n",
       "<style scoped>\n",
       "    .dataframe tbody tr th:only-of-type {\n",
       "        vertical-align: middle;\n",
       "    }\n",
       "\n",
       "    .dataframe tbody tr th {\n",
       "        vertical-align: top;\n",
       "    }\n",
       "\n",
       "    .dataframe thead th {\n",
       "        text-align: right;\n",
       "    }\n",
       "</style>\n",
       "<table border=\"1\" class=\"dataframe\">\n",
       "  <thead>\n",
       "    <tr style=\"text-align: right;\">\n",
       "      <th></th>\n",
       "      <th>0</th>\n",
       "      <th>1</th>\n",
       "      <th>2</th>\n",
       "    </tr>\n",
       "  </thead>\n",
       "  <tbody>\n",
       "    <tr>\n",
       "      <th>0</th>\n",
       "      <td>chr1</td>\n",
       "      <td>55331</td>\n",
       "      <td>55668</td>\n",
       "    </tr>\n",
       "    <tr>\n",
       "      <th>1</th>\n",
       "      <td>chr1</td>\n",
       "      <td>88271</td>\n",
       "      <td>88615</td>\n",
       "    </tr>\n",
       "    <tr>\n",
       "      <th>2</th>\n",
       "      <td>chr1</td>\n",
       "      <td>95728</td>\n",
       "      <td>95919</td>\n",
       "    </tr>\n",
       "    <tr>\n",
       "      <th>3</th>\n",
       "      <td>chr1</td>\n",
       "      <td>95728</td>\n",
       "      <td>95919</td>\n",
       "    </tr>\n",
       "    <tr>\n",
       "      <th>4</th>\n",
       "      <td>chr1</td>\n",
       "      <td>99326</td>\n",
       "      <td>99619</td>\n",
       "    </tr>\n",
       "  </tbody>\n",
       "</table>\n",
       "</div>"
      ],
      "text/plain": [
       "      0      1      2\n",
       "0  chr1  55331  55668\n",
       "1  chr1  88271  88615\n",
       "2  chr1  95728  95919\n",
       "3  chr1  95728  95919\n",
       "4  chr1  99326  99619"
      ]
     },
     "execution_count": 14,
     "metadata": {},
     "output_type": "execute_result"
    }
   ],
   "source": [
    "df_intrscts.head()"
   ]
  },
  {
   "cell_type": "code",
   "execution_count": 16,
   "id": "85d771aa",
   "metadata": {},
   "outputs": [
    {
     "name": "stderr",
     "output_type": "stream",
     "text": [
      "  0%|                                                                                         | 3/2935 [00:00<?, ?it/s]\n"
     ]
    },
    {
     "data": {
      "text/plain": [
       "True"
      ]
     },
     "execution_count": 16,
     "metadata": {},
     "output_type": "execute_result"
    }
   ],
   "source": [
    "is_slf_intrsct(df_intrscts)"
   ]
  },
  {
   "cell_type": "code",
   "execution_count": 22,
   "id": "e2e3b4c4",
   "metadata": {},
   "outputs": [],
   "source": [
    "df_intrscts.to_csv('ciscross_2/ups2000_tair10_intrsct.bed', header=None, index=None, sep='\\t')"
   ]
  },
  {
   "cell_type": "markdown",
   "metadata": {},
   "source": [
    "## Тестирование"
   ]
  },
  {
   "cell_type": "code",
   "execution_count": 45,
   "metadata": {},
   "outputs": [],
   "source": [
    "markup_tair = pd.read_csv(\"списки генов/ups2000_tair10.bed\", sep=\"\\t\", header=None)\n",
    "markup_tair = markup_tair.loc[(markup_tair[0] == 'chr1')]"
   ]
  },
  {
   "cell_type": "code",
   "execution_count": 46,
   "metadata": {},
   "outputs": [],
   "source": [
    "markup_real_2 = pd.read_csv(\"GSM2704255_ATAC_seq/GSM2704255_ATAC_chr1.bed\", sep=\"\\t\", header=None)"
   ]
  },
  {
   "cell_type": "code",
   "execution_count": 52,
   "metadata": {},
   "outputs": [
    {
     "name": "stderr",
     "output_type": "stream",
     "text": [
      "100%|██████████████████████████████████████████████████████████████████████████████| 6196/6196 [01:11<00:00, 86.15it/s]"
     ]
    },
    {
     "name": "stdout",
     "output_type": "stream",
     "text": [
      "Общая разметка составляет  0.011487534786400981 % и  0.0021755232801116253 % от исходных\n"
     ]
    },
    {
     "name": "stderr",
     "output_type": "stream",
     "text": [
      "\n"
     ]
    }
   ],
   "source": [
    "df_intrscts = build_intrscts(markup_real_2, markup_tair)"
   ]
  },
  {
   "cell_type": "code",
   "execution_count": 48,
   "metadata": {},
   "outputs": [],
   "source": [
    "control_markup = pd.read_csv(\"Intersections_contr.bed\", sep=\"\\t\", header=None)"
   ]
  },
  {
   "cell_type": "code",
   "execution_count": 54,
   "metadata": {},
   "outputs": [
    {
     "data": {
      "text/plain": [
       "0          33153\n",
       "1          37877\n",
       "2          55331\n",
       "3          88271\n",
       "4          88271\n",
       "          ...   \n",
       "5843    30389342\n",
       "5844    30389342\n",
       "5845    30389342\n",
       "5846    30409738\n",
       "5847    30409738\n",
       "Name: 1, Length: 5848, dtype: object"
      ]
     },
     "execution_count": 54,
     "metadata": {},
     "output_type": "execute_result"
    }
   ],
   "source": [
    "df_intrscts[1]"
   ]
  },
  {
   "cell_type": "code",
   "execution_count": 58,
   "metadata": {},
   "outputs": [
    {
     "data": {
      "text/plain": [
       "True"
      ]
     },
     "execution_count": 58,
     "metadata": {},
     "output_type": "execute_result"
    }
   ],
   "source": [
    "list(control_markup.sort_values(by=[1], ascending=True)[1]) == list(df_intrscts[1])"
   ]
  },
  {
   "cell_type": "markdown",
   "metadata": {},
   "source": [
    "## Работа с данными, фильтрация"
   ]
  },
  {
   "cell_type": "code",
   "execution_count": 29,
   "metadata": {},
   "outputs": [],
   "source": [
    "markup_tair = pd.read_csv(\"списки генов/ups2000_tair10.bed\", sep=\"\\t\", header=None)"
   ]
  },
  {
   "cell_type": "code",
   "execution_count": 30,
   "metadata": {},
   "outputs": [],
   "source": [
    "for chr_name in ['chr1', 'chr2', 'chr3', 'chr4', 'chr5']:\n",
    "    markup_tair.loc[(markup_tair[0] == chr_name)].to_csv('ciscross_2/ups2000_tair10_'+chr_name+'.bed', header=None, index=None, sep='\\t')  "
   ]
  },
  {
   "cell_type": "code",
   "execution_count": 33,
   "metadata": {},
   "outputs": [],
   "source": [
    "markup_tair = pd.read_csv(\"списки генов/ups2000_tair10_DEG.bed\", sep=\"\\t\", header=None)"
   ]
  },
  {
   "cell_type": "code",
   "execution_count": 34,
   "metadata": {},
   "outputs": [],
   "source": [
    "for chr_name in ['chr1', 'chr2', 'chr3', 'chr4', 'chr5']:\n",
    "    markup_tair.loc[(markup_tair[0] == chr_name)].to_csv('ciscross_2/ups2000_tair10_DEG_'+chr_name+'.bed', header=None, index=None, sep='\\t')  "
   ]
  },
  {
   "cell_type": "code",
   "execution_count": 35,
   "metadata": {},
   "outputs": [],
   "source": [
    "markup_tair = pd.read_csv(\"списки генов/ups2000_tair10_notDEG.bed\", sep=\"\\t\", header=None)"
   ]
  },
  {
   "cell_type": "code",
   "execution_count": 36,
   "metadata": {},
   "outputs": [],
   "source": [
    "for chr_name in ['chr1', 'chr2', 'chr3', 'chr4', 'chr5']:\n",
    "    markup_tair.loc[(markup_tair[0] == chr_name)].to_csv('ciscross_2/ups2000_tair10_notDEG_'+chr_name+'.bed', header=None, index=None, sep='\\t')  "
   ]
  },
  {
   "cell_type": "code",
   "execution_count": 39,
   "metadata": {},
   "outputs": [],
   "source": [
    "ein3_markup = pd.read_csv(\"bed files MACS2 processing/EIL_tnt.EIN3_col_a.bed\", sep=\"\\t\", header=None)"
   ]
  },
  {
   "cell_type": "code",
   "execution_count": 40,
   "metadata": {},
   "outputs": [],
   "source": [
    "for chr_name in ['chr1', 'chr2', 'chr3', 'chr4', 'chr5']:\n",
    "    ein3_markup.loc[(ein3_markup[0] == chr_name)].to_csv('ciscross_2/EIL_tnt.EIN3_col_a_'+chr_name+'.bed', header=None, index=None, sep='\\t')  "
   ]
  },
  {
   "cell_type": "code",
   "execution_count": 59,
   "metadata": {},
   "outputs": [],
   "source": [
    "ein3_markup = pd.read_csv(\"bed files MACS2 processing/EIL_tnt.EIN3_colamp_a.bed\", sep=\"\\t\", header=None)"
   ]
  },
  {
   "cell_type": "code",
   "execution_count": 60,
   "metadata": {},
   "outputs": [],
   "source": [
    "for chr_name in ['chr1', 'chr2', 'chr3', 'chr4', 'chr5']:\n",
    "    ein3_markup.loc[(ein3_markup[0] == chr_name)].to_csv('ciscross_2/EIL_tnt.EIN3_colamp_a_'+chr_name+'.bed', header=None, index=None, sep='\\t')  "
   ]
  },
  {
   "cell_type": "markdown",
   "metadata": {},
   "source": [
    "_________________________________________________________"
   ]
  },
  {
   "cell_type": "code",
   "execution_count": 6,
   "metadata": {},
   "outputs": [
    {
     "name": "stderr",
     "output_type": "stream",
     "text": [
      "100%|███████████████████████████████████████████████████████████████████████████████| 373/373 [00:03<00:00, 111.87it/s]\n",
      "  5%|████                                                                             | 10/197 [00:00<00:01, 94.27it/s]"
     ]
    },
    {
     "name": "stdout",
     "output_type": "stream",
     "text": [
      "Общая разметка составляет  0.0022199768070772408 % и  0.0011170250199758756 % от исходных\n"
     ]
    },
    {
     "name": "stderr",
     "output_type": "stream",
     "text": [
      "100%|███████████████████████████████████████████████████████████████████████████████| 197/197 [00:01<00:00, 108.01it/s]\n",
      " 10%|████████                                                                        | 18/180 [00:00<00:00, 174.37it/s]"
     ]
    },
    {
     "name": "stdout",
     "output_type": "stream",
     "text": [
      "Общая разметка составляет  0.0025821334234341084 % и  0.002890842538469576 % от исходных\n"
     ]
    },
    {
     "name": "stderr",
     "output_type": "stream",
     "text": [
      "100%|███████████████████████████████████████████████████████████████████████████████| 180/180 [00:01<00:00, 139.00it/s]\n",
      " 15%|████████████▏                                                                   | 18/118 [00:00<00:00, 158.28it/s]"
     ]
    },
    {
     "name": "stdout",
     "output_type": "stream",
     "text": [
      "Общая разметка составляет  0.005229695336836533 % и  0.002538829248087168 % от исходных\n"
     ]
    },
    {
     "name": "stderr",
     "output_type": "stream",
     "text": [
      "100%|███████████████████████████████████████████████████████████████████████████████| 118/118 [00:00<00:00, 157.65it/s]\n",
      "  7%|█████▉                                                                          | 19/256 [00:00<00:01, 170.76it/s]"
     ]
    },
    {
     "name": "stdout",
     "output_type": "stream",
     "text": [
      "Общая разметка составляет  0.0045749480333697745 % и  0.00515005118939828 % от исходных\n"
     ]
    },
    {
     "name": "stderr",
     "output_type": "stream",
     "text": [
      "100%|███████████████████████████████████████████████████████████████████████████████| 256/256 [00:01<00:00, 146.81it/s]\n",
      " 12%|█████████▎                                                                      | 17/146 [00:00<00:00, 152.25it/s]"
     ]
    },
    {
     "name": "stdout",
     "output_type": "stream",
     "text": [
      "Общая разметка составляет  0.003529017579054462 % и  0.0018287618172568266 % от исходных\n"
     ]
    },
    {
     "name": "stderr",
     "output_type": "stream",
     "text": [
      "100%|███████████████████████████████████████████████████████████████████████████████| 146/146 [00:00<00:00, 161.37it/s]\n",
      "  8%|██████▊                                                                         | 19/224 [00:00<00:01, 179.04it/s]"
     ]
    },
    {
     "name": "stdout",
     "output_type": "stream",
     "text": [
      "Общая разметка составляет  0.0036704113178339616 % и  0.004214039211953876 % от исходных\n"
     ]
    },
    {
     "name": "stderr",
     "output_type": "stream",
     "text": [
      "100%|███████████████████████████████████████████████████████████████████████████████| 224/224 [00:01<00:00, 151.57it/s]\n",
      " 13%|██████████▏                                                                     | 16/126 [00:00<00:00, 149.39it/s]"
     ]
    },
    {
     "name": "stdout",
     "output_type": "stream",
     "text": [
      "Общая разметка составляет  0.0030509065550906557 % и  0.0015399660523039136 % от исходных\n"
     ]
    },
    {
     "name": "stderr",
     "output_type": "stream",
     "text": [
      "100%|███████████████████████████████████████████████████████████████████████████████| 126/126 [00:00<00:00, 163.86it/s]\n",
      "  6%|████▌                                                                           | 16/277 [00:00<00:01, 147.72it/s]"
     ]
    },
    {
     "name": "stdout",
     "output_type": "stream",
     "text": [
      "Общая разметка составляет  0.004720987889331797 % и  0.005401503501812046 % от исходных\n"
     ]
    },
    {
     "name": "stderr",
     "output_type": "stream",
     "text": [
      "100%|███████████████████████████████████████████████████████████████████████████████| 277/277 [00:02<00:00, 128.82it/s]\n",
      "  9%|██████▊                                                                         | 16/187 [00:00<00:01, 143.01it/s]"
     ]
    },
    {
     "name": "stdout",
     "output_type": "stream",
     "text": [
      "Общая разметка составляет  0.0028909075556855916 % и  0.0014829556964071995 % от исходных\n"
     ]
    },
    {
     "name": "stderr",
     "output_type": "stream",
     "text": [
      "100%|███████████████████████████████████████████████████████████████████████████████| 187/187 [00:01<00:00, 130.35it/s]"
     ]
    },
    {
     "name": "stdout",
     "output_type": "stream",
     "text": [
      "Общая разметка составляет  0.003602307773945005 % и  0.004058693561357427 % от исходных\n"
     ]
    },
    {
     "name": "stderr",
     "output_type": "stream",
     "text": [
      "\n"
     ]
    }
   ],
   "source": [
    "for chr_name in ['chr1', 'chr2', 'chr3', 'chr4', 'chr5']:\n",
    "    \n",
    "    markup_TF = pd.read_csv('ciscross_2/EIL_tnt.EIN3_col_a_'+chr_name+'.bed', sep=\"\\t\", header=None)\n",
    "    markup_ATAC = pd.read_csv('ciscross_2/GSM2704255_ATAC_'+chr_name+'.bed', sep=\"\\t\", header=None)\n",
    "    df_intrscts = build_intrscts(markup_TF, markup_ATAC)\n",
    "    df_intrscts.to_csv('ciscross_2/EIN3_col_a_vs_ATAC_'+chr_name+'.bed', header=None, index=None, sep='\\t')\n",
    "    \n",
    "    markup_TF = pd.read_csv('ciscross_2/EIL_tnt.EIN3_colamp_a_'+chr_name+'.bed', sep=\"\\t\", header=None)\n",
    "    df_intrscts = build_intrscts(markup_TF, markup_ATAC)\n",
    "    df_intrscts.to_csv('ciscross_2/EIN3_colamp_a_vs_ATAC_'+chr_name+'.bed', header=None, index=None, sep='\\t')"
   ]
  },
  {
   "cell_type": "code",
   "execution_count": null,
   "metadata": {},
   "outputs": [],
   "source": []
  }
 ],
 "metadata": {
  "kernelspec": {
   "display_name": "Python 3",
   "language": "python",
   "name": "python3"
  },
  "language_info": {
   "codemirror_mode": {
    "name": "ipython",
    "version": 3
   },
   "file_extension": ".py",
   "mimetype": "text/x-python",
   "name": "python",
   "nbconvert_exporter": "python",
   "pygments_lexer": "ipython3",
   "version": "3.8.5"
  }
 },
 "nbformat": 4,
 "nbformat_minor": 5
}
