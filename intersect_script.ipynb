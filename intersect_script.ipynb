{
 "cells": [
  {
   "cell_type": "code",
   "execution_count": 1,
   "id": "8a31b171",
   "metadata": {},
   "outputs": [],
   "source": [
    "import pandas as pd\n",
    "from beda import *"
   ]
  },
  {
   "cell_type": "markdown",
   "id": "91a4df7c",
   "metadata": {},
   "source": [
    "### Чтение данных из bed-разметок"
   ]
  },
  {
   "cell_type": "markdown",
   "id": "2a6fa609",
   "metadata": {},
   "source": [
    "#### Информация о промоторах в аннотации TAIR."
   ]
  },
  {
   "cell_type": "code",
   "execution_count": 2,
   "id": "c003aa29",
   "metadata": {},
   "outputs": [],
   "source": [
    "markup_tair = pd.read_csv(\"markup_data/ups2000_tair10.bed\", sep=\"\\t\", header=None)"
   ]
  },
  {
   "cell_type": "code",
   "execution_count": 3,
   "id": "42fb50af",
   "metadata": {},
   "outputs": [],
   "source": [
    "markup_tair = markup_tair.loc[(markup_tair[0] == 'chr1') & (markup_tair[3] == '+')]"
   ]
  },
  {
   "cell_type": "code",
   "execution_count": 4,
   "id": "59d9cbaa",
   "metadata": {},
   "outputs": [
    {
     "data": {
      "text/html": [
       "<div>\n",
       "<style scoped>\n",
       "    .dataframe tbody tr th:only-of-type {\n",
       "        vertical-align: middle;\n",
       "    }\n",
       "\n",
       "    .dataframe tbody tr th {\n",
       "        vertical-align: top;\n",
       "    }\n",
       "\n",
       "    .dataframe thead th {\n",
       "        text-align: right;\n",
       "    }\n",
       "</style>\n",
       "<table border=\"1\" class=\"dataframe\">\n",
       "  <thead>\n",
       "    <tr style=\"text-align: right;\">\n",
       "      <th></th>\n",
       "      <th>0</th>\n",
       "      <th>1</th>\n",
       "      <th>2</th>\n",
       "      <th>3</th>\n",
       "      <th>4</th>\n",
       "    </tr>\n",
       "  </thead>\n",
       "  <tbody>\n",
       "    <tr>\n",
       "      <th>0</th>\n",
       "      <td>chr1</td>\n",
       "      <td>1631</td>\n",
       "      <td>3631</td>\n",
       "      <td>+</td>\n",
       "      <td>AT1G01010</td>\n",
       "    </tr>\n",
       "    <tr>\n",
       "      <th>3</th>\n",
       "      <td>chr1</td>\n",
       "      <td>21146</td>\n",
       "      <td>23146</td>\n",
       "      <td>+</td>\n",
       "      <td>AT1G01040</td>\n",
       "    </tr>\n",
       "    <tr>\n",
       "      <th>7</th>\n",
       "      <td>chr1</td>\n",
       "      <td>42677</td>\n",
       "      <td>44677</td>\n",
       "      <td>+</td>\n",
       "      <td>AT1G01073</td>\n",
       "    </tr>\n",
       "    <tr>\n",
       "      <th>10</th>\n",
       "      <td>chr1</td>\n",
       "      <td>50239</td>\n",
       "      <td>52239</td>\n",
       "      <td>+</td>\n",
       "      <td>AT1G01110</td>\n",
       "    </tr>\n",
       "    <tr>\n",
       "      <th>12</th>\n",
       "      <td>chr1</td>\n",
       "      <td>54624</td>\n",
       "      <td>56624</td>\n",
       "      <td>+</td>\n",
       "      <td>AT1G01115</td>\n",
       "    </tr>\n",
       "  </tbody>\n",
       "</table>\n",
       "</div>"
      ],
      "text/plain": [
       "       0      1      2  3          4\n",
       "0   chr1   1631   3631  +  AT1G01010\n",
       "3   chr1  21146  23146  +  AT1G01040\n",
       "7   chr1  42677  44677  +  AT1G01073\n",
       "10  chr1  50239  52239  +  AT1G01110\n",
       "12  chr1  54624  56624  +  AT1G01115"
      ]
     },
     "execution_count": 4,
     "metadata": {},
     "output_type": "execute_result"
    }
   ],
   "source": [
    "markup_tair.head()"
   ]
  },
  {
   "cell_type": "markdown",
   "id": "84b1b1f1",
   "metadata": {},
   "source": [
    "#### Информация о пиках ATAC-seq."
   ]
  },
  {
   "cell_type": "code",
   "execution_count": 5,
   "id": "8cdb99d7",
   "metadata": {},
   "outputs": [],
   "source": [
    "markup_ATAC = pd.read_csv(\"markup_data/GSM2704255_ATAC_chr1.bed\", sep=\"\\t\", header=None)"
   ]
  },
  {
   "cell_type": "code",
   "execution_count": 6,
   "id": "08117864",
   "metadata": {},
   "outputs": [
    {
     "data": {
      "text/html": [
       "<div>\n",
       "<style scoped>\n",
       "    .dataframe tbody tr th:only-of-type {\n",
       "        vertical-align: middle;\n",
       "    }\n",
       "\n",
       "    .dataframe tbody tr th {\n",
       "        vertical-align: top;\n",
       "    }\n",
       "\n",
       "    .dataframe thead th {\n",
       "        text-align: right;\n",
       "    }\n",
       "</style>\n",
       "<table border=\"1\" class=\"dataframe\">\n",
       "  <thead>\n",
       "    <tr style=\"text-align: right;\">\n",
       "      <th></th>\n",
       "      <th>0</th>\n",
       "      <th>1</th>\n",
       "      <th>2</th>\n",
       "      <th>3</th>\n",
       "      <th>4</th>\n",
       "    </tr>\n",
       "  </thead>\n",
       "  <tbody>\n",
       "    <tr>\n",
       "      <th>0</th>\n",
       "      <td>chr1</td>\n",
       "      <td>33153</td>\n",
       "      <td>33510</td>\n",
       "      <td>+</td>\n",
       "      <td>1</td>\n",
       "    </tr>\n",
       "    <tr>\n",
       "      <th>1</th>\n",
       "      <td>chr1</td>\n",
       "      <td>37877</td>\n",
       "      <td>38336</td>\n",
       "      <td>+</td>\n",
       "      <td>2</td>\n",
       "    </tr>\n",
       "    <tr>\n",
       "      <th>2</th>\n",
       "      <td>chr1</td>\n",
       "      <td>55331</td>\n",
       "      <td>55668</td>\n",
       "      <td>+</td>\n",
       "      <td>3</td>\n",
       "    </tr>\n",
       "    <tr>\n",
       "      <th>3</th>\n",
       "      <td>chr1</td>\n",
       "      <td>57011</td>\n",
       "      <td>57250</td>\n",
       "      <td>+</td>\n",
       "      <td>4</td>\n",
       "    </tr>\n",
       "    <tr>\n",
       "      <th>4</th>\n",
       "      <td>chr1</td>\n",
       "      <td>88271</td>\n",
       "      <td>88615</td>\n",
       "      <td>+</td>\n",
       "      <td>5</td>\n",
       "    </tr>\n",
       "  </tbody>\n",
       "</table>\n",
       "</div>"
      ],
      "text/plain": [
       "      0      1      2  3  4\n",
       "0  chr1  33153  33510  +  1\n",
       "1  chr1  37877  38336  +  2\n",
       "2  chr1  55331  55668  +  3\n",
       "3  chr1  57011  57250  +  4\n",
       "4  chr1  88271  88615  +  5"
      ]
     },
     "execution_count": 6,
     "metadata": {},
     "output_type": "execute_result"
    }
   ],
   "source": [
    "markup_ATAC.head()"
   ]
  },
  {
   "cell_type": "markdown",
   "id": "523af724",
   "metadata": {},
   "source": [
    "### Использование конвейера"
   ]
  },
  {
   "cell_type": "markdown",
   "id": "48eaf3c0",
   "metadata": {},
   "source": [
    "#### Проверка на наличие самопересечений внутри одной разметки."
   ]
  },
  {
   "cell_type": "code",
   "execution_count": 7,
   "id": "cb68f08a",
   "metadata": {},
   "outputs": [
    {
     "name": "stderr",
     "output_type": "stream",
     "text": [
      "  0%|▏                                                                            | 10/3557 [00:00<00:00, 10031.82it/s]\n"
     ]
    },
    {
     "data": {
      "text/plain": [
       "True"
      ]
     },
     "execution_count": 7,
     "metadata": {},
     "output_type": "execute_result"
    }
   ],
   "source": [
    "is_slf_intrsct(markup_tair)"
   ]
  },
  {
   "cell_type": "code",
   "execution_count": 8,
   "id": "c635027f",
   "metadata": {},
   "outputs": [
    {
     "name": "stderr",
     "output_type": "stream",
     "text": [
      "100%|█████████████████████████████████████████████████████████████████████████| 6195/6195 [00:00<00:00, 3076087.76it/s]\n"
     ]
    },
    {
     "data": {
      "text/plain": [
       "False"
      ]
     },
     "execution_count": 8,
     "metadata": {},
     "output_type": "execute_result"
    }
   ],
   "source": [
    "is_slf_intrsct(markup_ATAC)"
   ]
  },
  {
   "cell_type": "markdown",
   "id": "7d66c235",
   "metadata": {},
   "source": [
    "#### Чтение данных о длинах хромосом."
   ]
  },
  {
   "cell_type": "code",
   "execution_count": 9,
   "id": "0fc51e4c",
   "metadata": {},
   "outputs": [],
   "source": [
    "chromo_len = pd.read_csv('markup_data/chr_lengths.txt', sep=\"\\t\", header=None)"
   ]
  },
  {
   "cell_type": "code",
   "execution_count": 10,
   "id": "9bad4d3f",
   "metadata": {},
   "outputs": [
    {
     "data": {
      "text/plain": [
       "30427671"
      ]
     },
     "execution_count": 10,
     "metadata": {},
     "output_type": "execute_result"
    }
   ],
   "source": [
    "chromo_len[0][0]"
   ]
  },
  {
   "cell_type": "markdown",
   "id": "9fbff2c1",
   "metadata": {},
   "source": [
    "#### Поиск пересечений между разметками. Попарный анализ всех существующих областей."
   ]
  },
  {
   "cell_type": "code",
   "execution_count": 11,
   "id": "f46a0f57",
   "metadata": {},
   "outputs": [
    {
     "name": "stderr",
     "output_type": "stream",
     "text": [
      "100%|█████████████████████████████████████████████████████████████████████████████| 3558/3558 [00:14<00:00, 248.58it/s]\n"
     ]
    }
   ],
   "source": [
    "markup_intrscts = build_intrscts(markup_tair, markup_ATAC)"
   ]
  },
  {
   "cell_type": "markdown",
   "id": "02d035d1",
   "metadata": {},
   "source": [
    "#### Деление хромосомы на целое количество отрезков."
   ]
  },
  {
   "cell_type": "code",
   "execution_count": 12,
   "id": "9c77a208",
   "metadata": {},
   "outputs": [
    {
     "name": "stderr",
     "output_type": "stream",
     "text": [
      "100%|██████████████████████████████████████████████████████████████████████████████████| 10/10 [00:02<00:00,  3.64it/s]\n"
     ]
    }
   ],
   "source": [
    "markup_intrscts = segmentation_intrsct(markup_tair, markup_ATAC,\n",
    "                                       chr_length=chromo_len[0][0], n_segments=10)"
   ]
  },
  {
   "cell_type": "code",
   "execution_count": 13,
   "id": "1425034b",
   "metadata": {},
   "outputs": [
    {
     "name": "stderr",
     "output_type": "stream",
     "text": [
      "100%|████████████████████████████████████████████████████████████████████████████████| 100/100 [00:01<00:00, 52.69it/s]\n"
     ]
    }
   ],
   "source": [
    "markup_intrscts = segmentation_intrsct(markup_tair, markup_ATAC,\n",
    "                                       chr_length=chromo_len[0][0], n_segments=100)"
   ]
  },
  {
   "cell_type": "markdown",
   "id": "e5e6d2db",
   "metadata": {},
   "source": [
    "#### Сохранение данных."
   ]
  },
  {
   "cell_type": "code",
   "execution_count": 14,
   "id": "7cb5ba38",
   "metadata": {},
   "outputs": [],
   "source": [
    "markup_intrscts.to_csv('markup_data/TAIR10_vs_ATAC.bed', header=None, index=None, sep='\\t')"
   ]
  }
 ],
 "metadata": {
  "kernelspec": {
   "display_name": "Python 3 (ipykernel)",
   "language": "python",
   "name": "python3"
  },
  "language_info": {
   "codemirror_mode": {
    "name": "ipython",
    "version": 3
   },
   "file_extension": ".py",
   "mimetype": "text/x-python",
   "name": "python",
   "nbconvert_exporter": "python",
   "pygments_lexer": "ipython3",
   "version": "3.10.1"
  }
 },
 "nbformat": 4,
 "nbformat_minor": 5
}
