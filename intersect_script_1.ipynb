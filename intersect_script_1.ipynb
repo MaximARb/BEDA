{
 "cells": [
  {
   "cell_type": "code",
   "execution_count": 1,
   "id": "8a31b171",
   "metadata": {},
   "outputs": [],
   "source": [
    "import pandas as pd\n",
    "from tqdm import tqdm\n",
    "import os\n",
    "import matplotlib.pyplot as plt"
   ]
  },
  {
   "cell_type": "markdown",
   "id": "fc7ff191",
   "metadata": {},
   "source": [
    "## Функции для анализа пересечения сегментов"
   ]
  },
  {
   "cell_type": "code",
   "execution_count": 31,
   "id": "11593f1d",
   "metadata": {},
   "outputs": [],
   "source": [
    "def is_slf_intrsct(markup):    \n",
    "    '''\n",
    "    Функция is_slf_intrsct() определяет факт наличия пересечений\n",
    "    сегментов внутри разметки markup. Требует один аргумент - разметку .deb.\n",
    "    Возвращает True или False.\n",
    "    '''\n",
    "    \n",
    "    # later should adapt for using lesser memory\n",
    "    markup = markup.sort_values(by=[1], ascending=True)\n",
    "    begin_list = list(markup[1])\n",
    "    end_list = list(markup[2])\n",
    "    slf_intrsct = False\n",
    "    for zone_ in tqdm(range(1,len(begin_list))):\n",
    "        if slf_intrsct == True:\n",
    "            break\n",
    "        if end_list[zone_ - 1] > begin_list[zone_]:\n",
    "            slf_intrsct = True\n",
    "    return slf_intrsct\n",
    "\n",
    "def are_zones_intrsct(segm1, segm2):   \n",
    "    '''\n",
    "    Функция are_zones_intrsct() проверяет, пересекаются ли указанные \n",
    "    в аргументах отрезки zone1 и zone2. Отрезки должны списками или кортежами длины 2.\n",
    "    Возвращает True или False.\n",
    "    '''\n",
    "    \n",
    "    begin = 0\n",
    "    end = 1\n",
    "    intrsct = False\n",
    "    \n",
    "    if max(segm1[begin], segm2[begin]) < min(segm1[end], segm2[end]):\n",
    "        intrsct = True\n",
    "    \n",
    "    return intrsct\n",
    "\n",
    "def get_intrscts(markup1, markup2, ask_if=False):    \n",
    "    '''\n",
    "    Функция get_intrscts() строит матричное представление графа, построенного на\n",
    "    отношениях пересечений между отрезками разметок markup1 и markup2.\n",
    "    Возвращает объект pd.DataFrame. Если аргумент ask_if=True, то возвращает только True или False.\n",
    "    '''\n",
    "    \n",
    "    begin_list_1 = list(markup1[1])\n",
    "    end_list_1 = list(markup1[2])\n",
    "    begin_list_2 = list(markup2[1])\n",
    "    end_list_2 = list(markup2[2])\n",
    "    df_intrsct = pd.DataFrame(0, index=[i for i in range(1,len(begin_list_2)+1)],\n",
    "                               columns=[i for i in range(1,len(begin_list_1)+1)])\n",
    "    for zone1 in tqdm(range(len(begin_list_1))):\n",
    "        for zone2 in range(len(begin_list_2)):\n",
    "            if are_zones_intrsct([begin_list_1[zone1], end_list_1[zone1]],\n",
    "                                 [begin_list_2[zone2], end_list_2[zone2]]):\n",
    "                if ask_if:\n",
    "                    return True\n",
    "                df_intrsct.loc[zone2+1, zone1+1] = 1\n",
    "    return df_intrsct\n",
    "\n",
    "def get_comm_intrsct(segm1, segm2):    \n",
    "    '''\n",
    "    Функция get_comm_intrsct() возвращает отрезок, являющийся пересечением\n",
    "    отрезков segm1 и segm2.\n",
    "    '''\n",
    "    \n",
    "    begin = 0\n",
    "    end = 1\n",
    "    \n",
    "    if not are_zones_intrsct(segm1, segm2):\n",
    "        print('Segments do not intersect')\n",
    "        return 0\n",
    "    \n",
    "    intrsct_segm = [max(segm1[begin], segm2[begin]),\n",
    "                    min(segm1[end], segm2[end])]\n",
    "    \n",
    "    return intrsct_segm\n",
    "    \n",
    "def build_intrscts(markup1, markup2, progr_off=False):   \n",
    "    '''\n",
    "    Функция build_intrscts() строит .deb разметку на основе пересечения двух разметок\n",
    "    markup1 и markup2. Возвращает объект pd.DataFrame.\n",
    "    '''\n",
    "    \n",
    "    begin_list_1 = list(markup1[1])\n",
    "    end_list_1 = list(markup1[2])\n",
    "    begin_list_2 = list(markup2[1])\n",
    "    end_list_2 = list(markup2[2])\n",
    "    markup1_len = 0\n",
    "    markup2_len = 0\n",
    "    intrsct_len = 0\n",
    "    \n",
    "    intrsct_markup = pd.DataFrame(columns=[0, 1, 2])\n",
    "    \n",
    "    # if markup2[0][0] != markup1[0][0]:\n",
    "    if markup2.iat[0, 0] != markup1.iat[0, 0]:\n",
    "        if input('Different chromosomes if files. If no,\\\n",
    "        process will be stopped, else will be used name from 1-st file') == 'no':\n",
    "            return 0\n",
    "    # chr_name = markup1[0][0]\n",
    "    chr_name = markup1.iat[0, 0]\n",
    "    \n",
    "    for zone1 in tqdm(range(len(begin_list_1)), disable=progr_off):\n",
    "        for zone2 in range(len(begin_list_2)):\n",
    "            segm1 = [begin_list_1[zone1], end_list_1[zone1]]\n",
    "            segm2 = [begin_list_2[zone2], end_list_2[zone2]]\n",
    "            markup1_len += segm1[1] - segm1[0]\n",
    "            markup2_len += segm2[1] - segm2[0]\n",
    "            if are_zones_intrsct(segm1, segm2):\n",
    "                intrsct_zone = get_comm_intrsct(segm1, segm2)\n",
    "                intrsct_markup = pd.concat([intrsct_markup,\n",
    "                                            pd.DataFrame([[chr_name] + intrsct_zone],\n",
    "                                                         columns=[0, 1, 2])], ignore_index=True)\n",
    "                intrsct_len += intrsct_zone[1] - intrsct_zone[0]\n",
    "    intrsct_markup.sort_values(by=[1], ascending=True, inplace=True)\n",
    "#     print('Общая разметка составляет ', 100*intrsct_len/markup1_len,'% и ',\n",
    "#           100*intrsct_len/markup2_len, '% от исходных')\n",
    "    return intrsct_markup\n",
    "\n",
    "def segmentation_intrsct(markup1, markup2, chr_length=0, n_segments=10, progr_off=False):\n",
    "    '''\n",
    "    Функция segmentation_intrsct() строит .deb разметку на основе пересечения двух разметок\n",
    "    markup1 и markup2, задействуя алгоритм деления на отрезки. Опционально использует\n",
    "    длину хромосомы и количество отрезков.\n",
    "    '''\n",
    "    \n",
    "    if not chr_length:\n",
    "        chr_length = max(list(markup1[2])[-1], list(markup2[2])[-1])\n",
    "    \n",
    "    if (n_segments <= 0) or (n_segments != int(n_segments)):\n",
    "        print('Неверное количество сегментов n, должно быть целое положительное')\n",
    "        return 0\n",
    "    \n",
    "    intrsct_markup = pd.DataFrame(columns=[0, 1, 2])\n",
    "    segments_lst = []\n",
    "    for _s in range(1,n_segments+1):\n",
    "        segments_lst.append(_s * (chr_length // n_segments))\n",
    "    segments_lst[-1] += chr_length % n_segments\n",
    "    for _s in tqdm(segments_lst, disable=progr_off):\n",
    "        markup1_tmp = markup1.loc[(markup1[2] <= _s)]\n",
    "        markup2_tmp = markup2.loc[(markup2[2] <= _s)]\n",
    "        if markup1_tmp.empty or markup2_tmp.empty:\n",
    "            continue\n",
    "        markup1 = markup1.loc[(markup1[2] > _s)]\n",
    "        markup2 = markup2.loc[(markup2[2] > _s)]\n",
    "        intrsct_markup = pd.concat([intrsct_markup, build_intrscts(markup1_tmp, markup2_tmp, progr_off=True)])\n",
    "    \n",
    "    return intrsct_markup"
   ]
  },
  {
   "cell_type": "code",
   "execution_count": 4,
   "id": "29ef9ba4",
   "metadata": {
    "scrolled": false
   },
   "outputs": [
    {
     "name": "stdout",
     "output_type": "stream",
     "text": [
      "\n",
      "    Функция is_slf_intrsct() определяет факт наличия пересечений\n",
      "    сегментов внутри разметки markup. Требует один аргумент - разметку .deb.\n",
      "    Возвращает True или False.\n",
      "    \n",
      "\n",
      "    Функция are_zones_intrsct() проверяет, пересекаются ли указанные \n",
      "    в аргументах отрезки zone1 и zone2. Отрезки должны списками или кортежами длины 2.\n",
      "    Возвращает True или False.\n",
      "    \n",
      "\n",
      "    Функция get_intrscts() строит матричное представление графа, построенного на\n",
      "    отношениях пересечений между отрезками разметок markup1 и markup2.\n",
      "    Возвращает объект pd.DataFrame. Если аргумент ask_if=True, то возвращает только True или False.\n",
      "    \n",
      "\n",
      "    Функция get_comm_intrsct() возвращает отрезок, являющийся пересечением\n",
      "    отрезков segm1 и segm2.\n",
      "    \n",
      "\n",
      "    Функция build_intrscts() строит .deb разметку на основе пересечения двух разметок\n",
      "    markup1 и markup2. Возвращает объект pd.DataFrame.\n",
      "    \n",
      "\n",
      "    Функция segmentation_intrsct() строит .deb разметку на основе пересечения двух разметок\n",
      "    markup1 и markup2, задействуя алгоритм деления на отрезки. Опционально использует\n",
      "    длину хромосомы и количество отрезков.\n",
      "    \n"
     ]
    }
   ],
   "source": [
    "print(is_slf_intrsct.__doc__)\n",
    "print(are_zones_intrsct.__doc__)\n",
    "print(get_intrscts.__doc__)\n",
    "print(get_comm_intrsct.__doc__)\n",
    "print(build_intrscts.__doc__)\n",
    "print(segmentation_intrsct.__doc__)"
   ]
  },
  {
   "cell_type": "markdown",
   "metadata": {},
   "source": [
    "___"
   ]
  },
  {
   "cell_type": "code",
   "execution_count": 6,
   "id": "83a70503",
   "metadata": {},
   "outputs": [
    {
     "data": {
      "text/html": [
       "<div>\n",
       "<style scoped>\n",
       "    .dataframe tbody tr th:only-of-type {\n",
       "        vertical-align: middle;\n",
       "    }\n",
       "\n",
       "    .dataframe tbody tr th {\n",
       "        vertical-align: top;\n",
       "    }\n",
       "\n",
       "    .dataframe thead th {\n",
       "        text-align: right;\n",
       "    }\n",
       "</style>\n",
       "<table border=\"1\" class=\"dataframe\">\n",
       "  <thead>\n",
       "    <tr style=\"text-align: right;\">\n",
       "      <th></th>\n",
       "      <th>0</th>\n",
       "    </tr>\n",
       "  </thead>\n",
       "  <tbody>\n",
       "    <tr>\n",
       "      <th>0</th>\n",
       "      <td>30427671</td>\n",
       "    </tr>\n",
       "    <tr>\n",
       "      <th>1</th>\n",
       "      <td>19698289</td>\n",
       "    </tr>\n",
       "    <tr>\n",
       "      <th>2</th>\n",
       "      <td>23459830</td>\n",
       "    </tr>\n",
       "    <tr>\n",
       "      <th>3</th>\n",
       "      <td>18585056</td>\n",
       "    </tr>\n",
       "    <tr>\n",
       "      <th>4</th>\n",
       "      <td>26975502</td>\n",
       "    </tr>\n",
       "  </tbody>\n",
       "</table>\n",
       "</div>"
      ],
      "text/plain": [
       "          0\n",
       "0  30427671\n",
       "1  19698289\n",
       "2  23459830\n",
       "3  18585056\n",
       "4  26975502"
      ]
     },
     "execution_count": 6,
     "metadata": {},
     "output_type": "execute_result"
    }
   ],
   "source": [
    "pd.read_csv(wrk_dir+'chr_lengths.txt', sep=\"\\t\", header=None)"
   ]
  },
  {
   "cell_type": "code",
   "execution_count": 12,
   "id": "e656b54a",
   "metadata": {},
   "outputs": [
    {
     "name": "stderr",
     "output_type": "stream",
     "text": [
      "100%|█████████████████████████████████████████████████████████████████████████████| 3558/3558 [00:26<00:00, 133.35it/s]\n"
     ]
    }
   ],
   "source": [
    "old_intrscts = build_intrscts(markup_tair.loc[(markup_tair[3] == '+') & (markup_tair[0] == 'chr1')],\n",
    "                              markup_real_2)"
   ]
  },
  {
   "cell_type": "code",
   "execution_count": 29,
   "id": "6a0c482f",
   "metadata": {
    "scrolled": true
   },
   "outputs": [
    {
     "name": "stderr",
     "output_type": "stream",
     "text": [
      "100%|████████████████████████████████████████████████████████████████████████████████| 200/200 [00:04<00:00, 44.00it/s]\n"
     ]
    }
   ],
   "source": [
    "segm_test_intrsct = segmentation_intrsct(markup_tair.loc[(markup_tair[3] == '+') & (markup_tair[0] == 'chr1')],\n",
    "                                         markup_real_2,\n",
    "                                         chr_length=30427671, n_segments=200)"
   ]
  },
  {
   "cell_type": "code",
   "execution_count": 15,
   "metadata": {},
   "outputs": [
    {
     "data": {
      "text/html": [
       "<div>\n",
       "<style scoped>\n",
       "    .dataframe tbody tr th:only-of-type {\n",
       "        vertical-align: middle;\n",
       "    }\n",
       "\n",
       "    .dataframe tbody tr th {\n",
       "        vertical-align: top;\n",
       "    }\n",
       "\n",
       "    .dataframe thead th {\n",
       "        text-align: right;\n",
       "    }\n",
       "</style>\n",
       "<table border=\"1\" class=\"dataframe\">\n",
       "  <thead>\n",
       "    <tr style=\"text-align: right;\">\n",
       "      <th></th>\n",
       "      <th>0</th>\n",
       "      <th>1</th>\n",
       "      <th>2</th>\n",
       "    </tr>\n",
       "  </thead>\n",
       "  <tbody>\n",
       "    <tr>\n",
       "      <th>0</th>\n",
       "      <td>chr1</td>\n",
       "      <td>55331</td>\n",
       "      <td>55668</td>\n",
       "    </tr>\n",
       "    <tr>\n",
       "      <th>1</th>\n",
       "      <td>chr1</td>\n",
       "      <td>88271</td>\n",
       "      <td>88615</td>\n",
       "    </tr>\n",
       "    <tr>\n",
       "      <th>2</th>\n",
       "      <td>chr1</td>\n",
       "      <td>95728</td>\n",
       "      <td>95919</td>\n",
       "    </tr>\n",
       "    <tr>\n",
       "      <th>3</th>\n",
       "      <td>chr1</td>\n",
       "      <td>95728</td>\n",
       "      <td>95919</td>\n",
       "    </tr>\n",
       "    <tr>\n",
       "      <th>4</th>\n",
       "      <td>chr1</td>\n",
       "      <td>99326</td>\n",
       "      <td>99619</td>\n",
       "    </tr>\n",
       "    <tr>\n",
       "      <th>...</th>\n",
       "      <td>...</td>\n",
       "      <td>...</td>\n",
       "      <td>...</td>\n",
       "    </tr>\n",
       "    <tr>\n",
       "      <th>2931</th>\n",
       "      <td>chr1</td>\n",
       "      <td>30376215</td>\n",
       "      <td>30376371</td>\n",
       "    </tr>\n",
       "    <tr>\n",
       "      <th>2932</th>\n",
       "      <td>chr1</td>\n",
       "      <td>30383455</td>\n",
       "      <td>30383646</td>\n",
       "    </tr>\n",
       "    <tr>\n",
       "      <th>2933</th>\n",
       "      <td>chr1</td>\n",
       "      <td>30387674</td>\n",
       "      <td>30387865</td>\n",
       "    </tr>\n",
       "    <tr>\n",
       "      <th>2934</th>\n",
       "      <td>chr1</td>\n",
       "      <td>30389342</td>\n",
       "      <td>30389533</td>\n",
       "    </tr>\n",
       "    <tr>\n",
       "      <th>2935</th>\n",
       "      <td>chr1</td>\n",
       "      <td>30409738</td>\n",
       "      <td>30410087</td>\n",
       "    </tr>\n",
       "  </tbody>\n",
       "</table>\n",
       "<p>2936 rows × 3 columns</p>\n",
       "</div>"
      ],
      "text/plain": [
       "         0         1         2\n",
       "0     chr1     55331     55668\n",
       "1     chr1     88271     88615\n",
       "2     chr1     95728     95919\n",
       "3     chr1     95728     95919\n",
       "4     chr1     99326     99619\n",
       "...    ...       ...       ...\n",
       "2931  chr1  30376215  30376371\n",
       "2932  chr1  30383455  30383646\n",
       "2933  chr1  30387674  30387865\n",
       "2934  chr1  30389342  30389533\n",
       "2935  chr1  30409738  30410087\n",
       "\n",
       "[2936 rows x 3 columns]"
      ]
     },
     "execution_count": 15,
     "metadata": {},
     "output_type": "execute_result"
    }
   ],
   "source": [
    "old_intrscts"
   ]
  },
  {
   "cell_type": "code",
   "execution_count": 30,
   "metadata": {},
   "outputs": [
    {
     "data": {
      "text/html": [
       "<div>\n",
       "<style scoped>\n",
       "    .dataframe tbody tr th:only-of-type {\n",
       "        vertical-align: middle;\n",
       "    }\n",
       "\n",
       "    .dataframe tbody tr th {\n",
       "        vertical-align: top;\n",
       "    }\n",
       "\n",
       "    .dataframe thead th {\n",
       "        text-align: right;\n",
       "    }\n",
       "</style>\n",
       "<table border=\"1\" class=\"dataframe\">\n",
       "  <thead>\n",
       "    <tr style=\"text-align: right;\">\n",
       "      <th></th>\n",
       "      <th>0</th>\n",
       "      <th>1</th>\n",
       "      <th>2</th>\n",
       "    </tr>\n",
       "  </thead>\n",
       "  <tbody>\n",
       "    <tr>\n",
       "      <th>0</th>\n",
       "      <td>chr1</td>\n",
       "      <td>55331</td>\n",
       "      <td>55668</td>\n",
       "    </tr>\n",
       "    <tr>\n",
       "      <th>1</th>\n",
       "      <td>chr1</td>\n",
       "      <td>88271</td>\n",
       "      <td>88615</td>\n",
       "    </tr>\n",
       "    <tr>\n",
       "      <th>2</th>\n",
       "      <td>chr1</td>\n",
       "      <td>95728</td>\n",
       "      <td>95919</td>\n",
       "    </tr>\n",
       "    <tr>\n",
       "      <th>3</th>\n",
       "      <td>chr1</td>\n",
       "      <td>95728</td>\n",
       "      <td>95919</td>\n",
       "    </tr>\n",
       "    <tr>\n",
       "      <th>4</th>\n",
       "      <td>chr1</td>\n",
       "      <td>99326</td>\n",
       "      <td>99619</td>\n",
       "    </tr>\n",
       "    <tr>\n",
       "      <th>...</th>\n",
       "      <td>...</td>\n",
       "      <td>...</td>\n",
       "      <td>...</td>\n",
       "    </tr>\n",
       "    <tr>\n",
       "      <th>8</th>\n",
       "      <td>chr1</td>\n",
       "      <td>30376215</td>\n",
       "      <td>30376371</td>\n",
       "    </tr>\n",
       "    <tr>\n",
       "      <th>9</th>\n",
       "      <td>chr1</td>\n",
       "      <td>30383455</td>\n",
       "      <td>30383646</td>\n",
       "    </tr>\n",
       "    <tr>\n",
       "      <th>10</th>\n",
       "      <td>chr1</td>\n",
       "      <td>30387674</td>\n",
       "      <td>30387865</td>\n",
       "    </tr>\n",
       "    <tr>\n",
       "      <th>11</th>\n",
       "      <td>chr1</td>\n",
       "      <td>30389342</td>\n",
       "      <td>30389533</td>\n",
       "    </tr>\n",
       "    <tr>\n",
       "      <th>12</th>\n",
       "      <td>chr1</td>\n",
       "      <td>30409738</td>\n",
       "      <td>30410087</td>\n",
       "    </tr>\n",
       "  </tbody>\n",
       "</table>\n",
       "<p>2914 rows × 3 columns</p>\n",
       "</div>"
      ],
      "text/plain": [
       "       0         1         2\n",
       "0   chr1     55331     55668\n",
       "1   chr1     88271     88615\n",
       "2   chr1     95728     95919\n",
       "3   chr1     95728     95919\n",
       "4   chr1     99326     99619\n",
       "..   ...       ...       ...\n",
       "8   chr1  30376215  30376371\n",
       "9   chr1  30383455  30383646\n",
       "10  chr1  30387674  30387865\n",
       "11  chr1  30389342  30389533\n",
       "12  chr1  30409738  30410087\n",
       "\n",
       "[2914 rows x 3 columns]"
      ]
     },
     "execution_count": 30,
     "metadata": {},
     "output_type": "execute_result"
    }
   ],
   "source": [
    "segm_test_intrsct"
   ]
  },
  {
   "cell_type": "markdown",
   "id": "a453ac0d",
   "metadata": {},
   "source": [
    "## Работа с реальными разметками"
   ]
  },
  {
   "cell_type": "code",
   "execution_count": 13,
   "metadata": {},
   "outputs": [
    {
     "data": {
      "text/html": [
       "<div>\n",
       "<style scoped>\n",
       "    .dataframe tbody tr th:only-of-type {\n",
       "        vertical-align: middle;\n",
       "    }\n",
       "\n",
       "    .dataframe tbody tr th {\n",
       "        vertical-align: top;\n",
       "    }\n",
       "\n",
       "    .dataframe thead th {\n",
       "        text-align: right;\n",
       "    }\n",
       "</style>\n",
       "<table border=\"1\" class=\"dataframe\">\n",
       "  <thead>\n",
       "    <tr style=\"text-align: right;\">\n",
       "      <th></th>\n",
       "      <th>0</th>\n",
       "      <th>1</th>\n",
       "      <th>2</th>\n",
       "      <th>3</th>\n",
       "      <th>4</th>\n",
       "    </tr>\n",
       "  </thead>\n",
       "  <tbody>\n",
       "    <tr>\n",
       "      <th>0</th>\n",
       "      <td>chr1</td>\n",
       "      <td>1631</td>\n",
       "      <td>3631</td>\n",
       "      <td>+</td>\n",
       "      <td>AT1G01010</td>\n",
       "    </tr>\n",
       "    <tr>\n",
       "      <th>1</th>\n",
       "      <td>chr1</td>\n",
       "      <td>8737</td>\n",
       "      <td>10737</td>\n",
       "      <td>-</td>\n",
       "      <td>AT1G01020</td>\n",
       "    </tr>\n",
       "    <tr>\n",
       "      <th>2</th>\n",
       "      <td>chr1</td>\n",
       "      <td>13714</td>\n",
       "      <td>15714</td>\n",
       "      <td>-</td>\n",
       "      <td>AT1G01030</td>\n",
       "    </tr>\n",
       "    <tr>\n",
       "      <th>3</th>\n",
       "      <td>chr1</td>\n",
       "      <td>21146</td>\n",
       "      <td>23146</td>\n",
       "      <td>+</td>\n",
       "      <td>AT1G01040</td>\n",
       "    </tr>\n",
       "    <tr>\n",
       "      <th>4</th>\n",
       "      <td>chr1</td>\n",
       "      <td>33153</td>\n",
       "      <td>35153</td>\n",
       "      <td>-</td>\n",
       "      <td>AT1G01050</td>\n",
       "    </tr>\n",
       "    <tr>\n",
       "      <th>...</th>\n",
       "      <td>...</td>\n",
       "      <td>...</td>\n",
       "      <td>...</td>\n",
       "      <td>...</td>\n",
       "      <td>...</td>\n",
       "    </tr>\n",
       "    <tr>\n",
       "      <th>27197</th>\n",
       "      <td>chr5</td>\n",
       "      <td>26960323</td>\n",
       "      <td>26962323</td>\n",
       "      <td>-</td>\n",
       "      <td>AT5G67600</td>\n",
       "    </tr>\n",
       "    <tr>\n",
       "      <th>27198</th>\n",
       "      <td>chr5</td>\n",
       "      <td>26963638</td>\n",
       "      <td>26965638</td>\n",
       "      <td>-</td>\n",
       "      <td>AT5G67610</td>\n",
       "    </tr>\n",
       "    <tr>\n",
       "      <th>27199</th>\n",
       "      <td>chr5</td>\n",
       "      <td>26965996</td>\n",
       "      <td>26967996</td>\n",
       "      <td>-</td>\n",
       "      <td>AT5G67620</td>\n",
       "    </tr>\n",
       "    <tr>\n",
       "      <th>27200</th>\n",
       "      <td>chr5</td>\n",
       "      <td>26969394</td>\n",
       "      <td>26971394</td>\n",
       "      <td>-</td>\n",
       "      <td>AT5G67630</td>\n",
       "    </tr>\n",
       "    <tr>\n",
       "      <th>27201</th>\n",
       "      <td>chr5</td>\n",
       "      <td>26970641</td>\n",
       "      <td>26972641</td>\n",
       "      <td>-</td>\n",
       "      <td>AT5G67640</td>\n",
       "    </tr>\n",
       "  </tbody>\n",
       "</table>\n",
       "<p>27202 rows × 5 columns</p>\n",
       "</div>"
      ],
      "text/plain": [
       "          0         1         2  3          4\n",
       "0      chr1      1631      3631  +  AT1G01010\n",
       "1      chr1      8737     10737  -  AT1G01020\n",
       "2      chr1     13714     15714  -  AT1G01030\n",
       "3      chr1     21146     23146  +  AT1G01040\n",
       "4      chr1     33153     35153  -  AT1G01050\n",
       "...     ...       ...       ... ..        ...\n",
       "27197  chr5  26960323  26962323  -  AT5G67600\n",
       "27198  chr5  26963638  26965638  -  AT5G67610\n",
       "27199  chr5  26965996  26967996  -  AT5G67620\n",
       "27200  chr5  26969394  26971394  -  AT5G67630\n",
       "27201  chr5  26970641  26972641  -  AT5G67640\n",
       "\n",
       "[27202 rows x 5 columns]"
      ]
     },
     "execution_count": 13,
     "metadata": {},
     "output_type": "execute_result"
    }
   ],
   "source": [
    "markup_tair"
   ]
  },
  {
   "cell_type": "code",
   "execution_count": 5,
   "id": "d4b0ddf9",
   "metadata": {},
   "outputs": [],
   "source": [
    "markup_tair = pd.read_csv(\"списки генов/ups2000_tair10.bed\", sep=\"\\t\", header=None)"
   ]
  },
  {
   "cell_type": "code",
   "execution_count": 11,
   "id": "cedad5b7",
   "metadata": {},
   "outputs": [],
   "source": [
    "# markup_real_1 = pd.read_csv(\"DHS/DHS_Ath_flower_14_days_chr1.bed\", sep=\"\\t\", header=None)\n",
    "markup_real_2 = pd.read_csv(\"GSM2704255_ATAC_seq/GSM2704255_ATAC_chr1.bed\", sep=\"\\t\", header=None)"
   ]
  },
  {
   "cell_type": "code",
   "execution_count": 30,
   "metadata": {},
   "outputs": [
    {
     "data": {
      "text/html": [
       "<div>\n",
       "<style scoped>\n",
       "    .dataframe tbody tr th:only-of-type {\n",
       "        vertical-align: middle;\n",
       "    }\n",
       "\n",
       "    .dataframe tbody tr th {\n",
       "        vertical-align: top;\n",
       "    }\n",
       "\n",
       "    .dataframe thead th {\n",
       "        text-align: right;\n",
       "    }\n",
       "</style>\n",
       "<table border=\"1\" class=\"dataframe\">\n",
       "  <thead>\n",
       "    <tr style=\"text-align: right;\">\n",
       "      <th></th>\n",
       "      <th>0</th>\n",
       "      <th>1</th>\n",
       "      <th>2</th>\n",
       "      <th>3</th>\n",
       "      <th>4</th>\n",
       "    </tr>\n",
       "  </thead>\n",
       "  <tbody>\n",
       "    <tr>\n",
       "      <th>0</th>\n",
       "      <td>chr1</td>\n",
       "      <td>33153</td>\n",
       "      <td>33510</td>\n",
       "      <td>+</td>\n",
       "      <td>1</td>\n",
       "    </tr>\n",
       "    <tr>\n",
       "      <th>1</th>\n",
       "      <td>chr1</td>\n",
       "      <td>37877</td>\n",
       "      <td>38336</td>\n",
       "      <td>+</td>\n",
       "      <td>2</td>\n",
       "    </tr>\n",
       "    <tr>\n",
       "      <th>2</th>\n",
       "      <td>chr1</td>\n",
       "      <td>55331</td>\n",
       "      <td>55668</td>\n",
       "      <td>+</td>\n",
       "      <td>3</td>\n",
       "    </tr>\n",
       "    <tr>\n",
       "      <th>3</th>\n",
       "      <td>chr1</td>\n",
       "      <td>57011</td>\n",
       "      <td>57250</td>\n",
       "      <td>+</td>\n",
       "      <td>4</td>\n",
       "    </tr>\n",
       "    <tr>\n",
       "      <th>4</th>\n",
       "      <td>chr1</td>\n",
       "      <td>88271</td>\n",
       "      <td>88615</td>\n",
       "      <td>+</td>\n",
       "      <td>5</td>\n",
       "    </tr>\n",
       "    <tr>\n",
       "      <th>...</th>\n",
       "      <td>...</td>\n",
       "      <td>...</td>\n",
       "      <td>...</td>\n",
       "      <td>...</td>\n",
       "      <td>...</td>\n",
       "    </tr>\n",
       "    <tr>\n",
       "      <th>6191</th>\n",
       "      <td>chr1</td>\n",
       "      <td>30376215</td>\n",
       "      <td>30376513</td>\n",
       "      <td>+</td>\n",
       "      <td>6192</td>\n",
       "    </tr>\n",
       "    <tr>\n",
       "      <th>6192</th>\n",
       "      <td>chr1</td>\n",
       "      <td>30383455</td>\n",
       "      <td>30383646</td>\n",
       "      <td>+</td>\n",
       "      <td>6193</td>\n",
       "    </tr>\n",
       "    <tr>\n",
       "      <th>6193</th>\n",
       "      <td>chr1</td>\n",
       "      <td>30387674</td>\n",
       "      <td>30387865</td>\n",
       "      <td>+</td>\n",
       "      <td>6194</td>\n",
       "    </tr>\n",
       "    <tr>\n",
       "      <th>6194</th>\n",
       "      <td>chr1</td>\n",
       "      <td>30389342</td>\n",
       "      <td>30389533</td>\n",
       "      <td>+</td>\n",
       "      <td>6195</td>\n",
       "    </tr>\n",
       "    <tr>\n",
       "      <th>6195</th>\n",
       "      <td>chr1</td>\n",
       "      <td>30409738</td>\n",
       "      <td>30410087</td>\n",
       "      <td>+</td>\n",
       "      <td>6196</td>\n",
       "    </tr>\n",
       "  </tbody>\n",
       "</table>\n",
       "<p>6196 rows × 5 columns</p>\n",
       "</div>"
      ],
      "text/plain": [
       "         0         1         2  3     4\n",
       "0     chr1     33153     33510  +     1\n",
       "1     chr1     37877     38336  +     2\n",
       "2     chr1     55331     55668  +     3\n",
       "3     chr1     57011     57250  +     4\n",
       "4     chr1     88271     88615  +     5\n",
       "...    ...       ...       ... ..   ...\n",
       "6191  chr1  30376215  30376513  +  6192\n",
       "6192  chr1  30383455  30383646  +  6193\n",
       "6193  chr1  30387674  30387865  +  6194\n",
       "6194  chr1  30389342  30389533  +  6195\n",
       "6195  chr1  30409738  30410087  +  6196\n",
       "\n",
       "[6196 rows x 5 columns]"
      ]
     },
     "execution_count": 30,
     "metadata": {},
     "output_type": "execute_result"
    }
   ],
   "source": [
    "markup_real_2"
   ]
  },
  {
   "cell_type": "markdown",
   "id": "bf51e6bb",
   "metadata": {},
   "source": [
    "### Читаем разметку tair. Проверяем избыточность, т.е. что есть самопересечения."
   ]
  },
  {
   "cell_type": "code",
   "execution_count": 6,
   "id": "56ba0831",
   "metadata": {},
   "outputs": [
    {
     "name": "stderr",
     "output_type": "stream",
     "text": [
      "  0%|▏                                                                                       | 10/3557 [00:00<?, ?it/s]\n",
      "  0%|▏                                                                              | 4/2149 [00:00<00:00, 4011.77it/s]\n",
      "  0%|                                                                                         | 1/2643 [00:00<?, ?it/s]\n",
      "  0%|                                                                                         | 1/2059 [00:00<?, ?it/s]\n",
      "  1%|▋                                                                            | 30/3148 [00:00<00:00, 25642.78it/s]"
     ]
    },
    {
     "name": "stdout",
     "output_type": "stream",
     "text": [
      "True\n",
      "True\n",
      "True\n",
      "True\n",
      "True\n"
     ]
    },
    {
     "name": "stderr",
     "output_type": "stream",
     "text": [
      "\n"
     ]
    }
   ],
   "source": [
    "for chr_name in ['chr1', 'chr2', 'chr3', 'chr4', 'chr5']:\n",
    "    print(is_slf_intrsct(markup_tair.loc[(markup_tair[0] == chr_name) & (markup_tair[3] == '+')]))"
   ]
  },
  {
   "cell_type": "code",
   "execution_count": 10,
   "id": "ba58b8d6",
   "metadata": {},
   "outputs": [],
   "source": [
    "markup_tair = markup_tair.loc[(markup_tair[0] == 'chr1') & (markup_tair[3] == '+')]"
   ]
  },
  {
   "cell_type": "code",
   "execution_count": 12,
   "id": "edd78d0d",
   "metadata": {},
   "outputs": [
    {
     "name": "stderr",
     "output_type": "stream",
     "text": [
      "  0%|                                                                                | 4/3558 [00:00<00:30, 117.71it/s]\n"
     ]
    },
    {
     "data": {
      "text/plain": [
       "True"
      ]
     },
     "execution_count": 12,
     "metadata": {},
     "output_type": "execute_result"
    }
   ],
   "source": [
    "get_intrscts(markup_tair, markup_real_2, ask_if=True)"
   ]
  },
  {
   "cell_type": "code",
   "execution_count": 13,
   "id": "5d27233d",
   "metadata": {},
   "outputs": [
    {
     "name": "stderr",
     "output_type": "stream",
     "text": [
      "100%|█████████████████████████████████████████████████████████████████████████████| 6196/6196 [00:38<00:00, 161.95it/s]"
     ]
    },
    {
     "name": "stdout",
     "output_type": "stream",
     "text": [
      "Общая разметка составляет  0.011409004729573523 % и  0.002160651162638791 % от исходных\n"
     ]
    },
    {
     "name": "stderr",
     "output_type": "stream",
     "text": [
      "\n"
     ]
    }
   ],
   "source": [
    "df_intrscts = build_intrscts(markup_real_2, markup_tair)"
   ]
  },
  {
   "cell_type": "code",
   "execution_count": 14,
   "id": "fbe147b0",
   "metadata": {},
   "outputs": [
    {
     "data": {
      "text/html": [
       "<div>\n",
       "<style scoped>\n",
       "    .dataframe tbody tr th:only-of-type {\n",
       "        vertical-align: middle;\n",
       "    }\n",
       "\n",
       "    .dataframe tbody tr th {\n",
       "        vertical-align: top;\n",
       "    }\n",
       "\n",
       "    .dataframe thead th {\n",
       "        text-align: right;\n",
       "    }\n",
       "</style>\n",
       "<table border=\"1\" class=\"dataframe\">\n",
       "  <thead>\n",
       "    <tr style=\"text-align: right;\">\n",
       "      <th></th>\n",
       "      <th>0</th>\n",
       "      <th>1</th>\n",
       "      <th>2</th>\n",
       "    </tr>\n",
       "  </thead>\n",
       "  <tbody>\n",
       "    <tr>\n",
       "      <th>0</th>\n",
       "      <td>chr1</td>\n",
       "      <td>55331</td>\n",
       "      <td>55668</td>\n",
       "    </tr>\n",
       "    <tr>\n",
       "      <th>1</th>\n",
       "      <td>chr1</td>\n",
       "      <td>88271</td>\n",
       "      <td>88615</td>\n",
       "    </tr>\n",
       "    <tr>\n",
       "      <th>2</th>\n",
       "      <td>chr1</td>\n",
       "      <td>95728</td>\n",
       "      <td>95919</td>\n",
       "    </tr>\n",
       "    <tr>\n",
       "      <th>3</th>\n",
       "      <td>chr1</td>\n",
       "      <td>95728</td>\n",
       "      <td>95919</td>\n",
       "    </tr>\n",
       "    <tr>\n",
       "      <th>4</th>\n",
       "      <td>chr1</td>\n",
       "      <td>99326</td>\n",
       "      <td>99619</td>\n",
       "    </tr>\n",
       "  </tbody>\n",
       "</table>\n",
       "</div>"
      ],
      "text/plain": [
       "      0      1      2\n",
       "0  chr1  55331  55668\n",
       "1  chr1  88271  88615\n",
       "2  chr1  95728  95919\n",
       "3  chr1  95728  95919\n",
       "4  chr1  99326  99619"
      ]
     },
     "execution_count": 14,
     "metadata": {},
     "output_type": "execute_result"
    }
   ],
   "source": [
    "df_intrscts.head()"
   ]
  },
  {
   "cell_type": "code",
   "execution_count": 16,
   "id": "85d771aa",
   "metadata": {},
   "outputs": [
    {
     "name": "stderr",
     "output_type": "stream",
     "text": [
      "  0%|                                                                                         | 3/2935 [00:00<?, ?it/s]\n"
     ]
    },
    {
     "data": {
      "text/plain": [
       "True"
      ]
     },
     "execution_count": 16,
     "metadata": {},
     "output_type": "execute_result"
    }
   ],
   "source": [
    "is_slf_intrsct(df_intrscts)"
   ]
  },
  {
   "cell_type": "code",
   "execution_count": 22,
   "id": "e2e3b4c4",
   "metadata": {},
   "outputs": [],
   "source": [
    "df_intrscts.to_csv('ciscross_2/ups2000_tair10_intrsct.bed', header=None, index=None, sep='\\t')"
   ]
  },
  {
   "cell_type": "markdown",
   "id": "f57b95de",
   "metadata": {},
   "source": [
    "## Тестирование"
   ]
  },
  {
   "cell_type": "code",
   "execution_count": 8,
   "id": "5733a0e1",
   "metadata": {},
   "outputs": [],
   "source": [
    "markup_tair = pd.read_csv(\"списки генов/ups2000_tair10.bed\", sep=\"\\t\", header=None)\n",
    "markup_tair = markup_tair.loc[(markup_tair[0] == 'chr1')]"
   ]
  },
  {
   "cell_type": "code",
   "execution_count": 9,
   "id": "9a8e8071",
   "metadata": {},
   "outputs": [],
   "source": [
    "markup_real_2 = pd.read_csv(\"GSM2704255_ATAC_seq/GSM2704255_ATAC_chr1.bed\", sep=\"\\t\", header=None)"
   ]
  },
  {
   "cell_type": "code",
   "execution_count": 56,
   "id": "b85bb008",
   "metadata": {},
   "outputs": [
    {
     "name": "stderr",
     "output_type": "stream",
     "text": [
      "100%|█████████████████████████████████████████████████████████████████████████████| 6196/6196 [00:40<00:00, 154.07it/s]"
     ]
    },
    {
     "name": "stdout",
     "output_type": "stream",
     "text": [
      "Общая разметка составляет  0.011487534786400981 % и  0.0021755232801116253 % от исходных\n"
     ]
    },
    {
     "name": "stderr",
     "output_type": "stream",
     "text": [
      "\n"
     ]
    }
   ],
   "source": [
    "df_intrscts = build_intrscts(markup_real_2, markup_tair)"
   ]
  },
  {
   "cell_type": "code",
   "execution_count": 48,
   "id": "503305cf",
   "metadata": {},
   "outputs": [],
   "source": [
    "control_markup = pd.read_csv(\"Intersections_contr.bed\", sep=\"\\t\", header=None)"
   ]
  },
  {
   "cell_type": "code",
   "execution_count": 54,
   "id": "3d3420c2",
   "metadata": {},
   "outputs": [
    {
     "data": {
      "text/plain": [
       "0          33153\n",
       "1          37877\n",
       "2          55331\n",
       "3          88271\n",
       "4          88271\n",
       "          ...   \n",
       "5843    30389342\n",
       "5844    30389342\n",
       "5845    30389342\n",
       "5846    30409738\n",
       "5847    30409738\n",
       "Name: 1, Length: 5848, dtype: object"
      ]
     },
     "execution_count": 54,
     "metadata": {},
     "output_type": "execute_result"
    }
   ],
   "source": [
    "df_intrscts[1]"
   ]
  },
  {
   "cell_type": "code",
   "execution_count": 58,
   "id": "089807a9",
   "metadata": {},
   "outputs": [
    {
     "data": {
      "text/plain": [
       "True"
      ]
     },
     "execution_count": 58,
     "metadata": {},
     "output_type": "execute_result"
    }
   ],
   "source": [
    "list(control_markup.sort_values(by=[1], ascending=True)[1]) == list(df_intrscts[1])"
   ]
  },
  {
   "cell_type": "markdown",
   "id": "813b57ef",
   "metadata": {},
   "source": [
    "## Работа с данными, фильтрация"
   ]
  },
  {
   "cell_type": "code",
   "execution_count": 256,
   "id": "fb765d56",
   "metadata": {},
   "outputs": [],
   "source": [
    "def bed_chr_sep(file_name,file_dir,save_dir):\n",
    "    global chromo_dict\n",
    "    if os.path.getsize(file_dir+file_name) == 0:\n",
    "        return 0\n",
    "    file_markup = pd.read_csv(file_dir+file_name, sep=\"\\t\", header=None)\n",
    "    file_name = file_name.split('.bed')[0]\n",
    "    for chr_name in ['chr1', 'chr2', 'chr3', 'chr4', 'chr5']:\n",
    "        markup_ATAC = pd.read_csv('GSM2704255_ATAC_seq/GSM2704255_ATAC_'+chr_name+'.bed',\n",
    "                                  sep=\"\\t\", header=None)\n",
    "        markup_TF = file_markup.loc[(file_markup[0] == chr_name)]\n",
    "        markup_TF.to_csv(save_dir+file_name+'_'+chr_name+'.bed',\n",
    "                         header=None, index=None, sep='\\t')\n",
    "        df_intrscts = segmentation_intrsct(markup_TF, markup_ATAC,\n",
    "                                           chr_length=chromo_dict[chr_name], n_segments=10, progr_off=True)\n",
    "        df_intrscts.to_csv(save_dir+file_name+'_vs_ATAC_'+chr_name+'.bed',\n",
    "                         header=None, index=None, sep='\\t')\n",
    "    return 1"
   ]
  },
  {
   "cell_type": "code",
   "execution_count": 250,
   "id": "d0389209",
   "metadata": {},
   "outputs": [],
   "source": [
    "chr_lengths = pd.read_csv(wrk_dir+'chr_lengths.txt', sep=\"\\t\", header=None)"
   ]
  },
  {
   "cell_type": "code",
   "execution_count": 251,
   "id": "b4a70c5d",
   "metadata": {},
   "outputs": [],
   "source": [
    "chromo_dict = {'chr1':chr_lengths[0][0],\n",
    "               'chr2':chr_lengths[0][1],\n",
    "               'chr3':chr_lengths[0][2],\n",
    "               'chr4':chr_lengths[0][3],\n",
    "               'chr5':chr_lengths[0][4]}"
   ]
  },
  {
   "cell_type": "code",
   "execution_count": 5,
   "id": "e1393e6d",
   "metadata": {},
   "outputs": [],
   "source": [
    "wrk_dir = 'ciscross_2/'\n",
    "data_dir = 'bed files MACS2 processing/'\n",
    "# chromo_dir = 'bed files MACS2 processing by chromo/'\n",
    "chromo_dir = 'for ciscross 2/'"
   ]
  },
  {
   "cell_type": "code",
   "execution_count": 253,
   "id": "16df8bed",
   "metadata": {},
   "outputs": [],
   "source": [
    "factor_data = pd.read_csv(data_dir+'TF_list.csv', sep=\"\\t\", header=0)"
   ]
  },
  {
   "cell_type": "code",
   "execution_count": 254,
   "id": "d7b74847",
   "metadata": {},
   "outputs": [
    {
     "data": {
      "text/html": [
       "<div>\n",
       "<style scoped>\n",
       "    .dataframe tbody tr th:only-of-type {\n",
       "        vertical-align: middle;\n",
       "    }\n",
       "\n",
       "    .dataframe tbody tr th {\n",
       "        vertical-align: top;\n",
       "    }\n",
       "\n",
       "    .dataframe thead th {\n",
       "        text-align: right;\n",
       "    }\n",
       "</style>\n",
       "<table border=\"1\" class=\"dataframe\">\n",
       "  <thead>\n",
       "    <tr style=\"text-align: right;\">\n",
       "      <th></th>\n",
       "      <th>AGI</th>\n",
       "      <th>ID</th>\n",
       "      <th>family</th>\n",
       "      <th>Name</th>\n",
       "      <th>N</th>\n",
       "      <th>frip</th>\n",
       "      <th>number_of_peaks</th>\n",
       "    </tr>\n",
       "  </thead>\n",
       "  <tbody>\n",
       "    <tr>\n",
       "      <th>0</th>\n",
       "      <td>AT1G01060</td>\n",
       "      <td>MYBrelated_tnt.LHY1_colamp_a</td>\n",
       "      <td>MYB</td>\n",
       "      <td>LHY1</td>\n",
       "      <td>1</td>\n",
       "      <td>0.101</td>\n",
       "      <td>3528</td>\n",
       "    </tr>\n",
       "    <tr>\n",
       "      <th>1</th>\n",
       "      <td>AT1G01060</td>\n",
       "      <td>MYBrelated_tnt.LHY1_col_a</td>\n",
       "      <td>MYB</td>\n",
       "      <td>LHY1</td>\n",
       "      <td>2</td>\n",
       "      <td>0.487</td>\n",
       "      <td>16509</td>\n",
       "    </tr>\n",
       "    <tr>\n",
       "      <th>2</th>\n",
       "      <td>AT1G01720</td>\n",
       "      <td>NAC_tnt.ATAF1_col_a</td>\n",
       "      <td>NAC</td>\n",
       "      <td>ATAF1</td>\n",
       "      <td>3</td>\n",
       "      <td>0.087</td>\n",
       "      <td>3964</td>\n",
       "    </tr>\n",
       "    <tr>\n",
       "      <th>3</th>\n",
       "      <td>AT1G02230</td>\n",
       "      <td>NAC_tnt.ANAC004_col_a</td>\n",
       "      <td>NAC</td>\n",
       "      <td>NAC4</td>\n",
       "      <td>4</td>\n",
       "      <td>0.321</td>\n",
       "      <td>4206</td>\n",
       "    </tr>\n",
       "    <tr>\n",
       "      <th>4</th>\n",
       "      <td>AT1G02230</td>\n",
       "      <td>NAC_tnt.ANAC004_colamp_a</td>\n",
       "      <td>NAC</td>\n",
       "      <td>NAC4</td>\n",
       "      <td>5</td>\n",
       "      <td>0.153</td>\n",
       "      <td>7093</td>\n",
       "    </tr>\n",
       "    <tr>\n",
       "      <th>...</th>\n",
       "      <td>...</td>\n",
       "      <td>...</td>\n",
       "      <td>...</td>\n",
       "      <td>...</td>\n",
       "      <td>...</td>\n",
       "      <td>...</td>\n",
       "      <td>...</td>\n",
       "    </tr>\n",
       "    <tr>\n",
       "      <th>572</th>\n",
       "      <td>AT5G67190</td>\n",
       "      <td>AP2EREBP_tnt.DEAR2_col_a</td>\n",
       "      <td>AP2/ERF</td>\n",
       "      <td>DEAR2</td>\n",
       "      <td>573</td>\n",
       "      <td>0.095</td>\n",
       "      <td>1979</td>\n",
       "    </tr>\n",
       "    <tr>\n",
       "      <th>573</th>\n",
       "      <td>AT5G67190</td>\n",
       "      <td>AP2EREBP_tnt.DEAR2_colamp_a</td>\n",
       "      <td>AP2/ERF</td>\n",
       "      <td>DEAR2</td>\n",
       "      <td>574</td>\n",
       "      <td>0.270</td>\n",
       "      <td>14168</td>\n",
       "    </tr>\n",
       "    <tr>\n",
       "      <th>574</th>\n",
       "      <td>AT5G67300</td>\n",
       "      <td>MYB_tnt.MYB44_colamp_a</td>\n",
       "      <td>MYB</td>\n",
       "      <td>MYB44</td>\n",
       "      <td>575</td>\n",
       "      <td>0.011</td>\n",
       "      <td>516</td>\n",
       "    </tr>\n",
       "    <tr>\n",
       "      <th>575</th>\n",
       "      <td>AT5G67300</td>\n",
       "      <td>MYB_tnt.MYB44_col_b</td>\n",
       "      <td>MYB</td>\n",
       "      <td>MYB44</td>\n",
       "      <td>576</td>\n",
       "      <td>0.464</td>\n",
       "      <td>12101</td>\n",
       "    </tr>\n",
       "    <tr>\n",
       "      <th>576</th>\n",
       "      <td>AT5G67580</td>\n",
       "      <td>MYBrelated_tnt.TBP3_col_a</td>\n",
       "      <td>MYB</td>\n",
       "      <td>TRB2</td>\n",
       "      <td>577</td>\n",
       "      <td>0.157</td>\n",
       "      <td>1697</td>\n",
       "    </tr>\n",
       "  </tbody>\n",
       "</table>\n",
       "<p>577 rows × 7 columns</p>\n",
       "</div>"
      ],
      "text/plain": [
       "           AGI                            ID   family   Name    N   frip  \\\n",
       "0    AT1G01060  MYBrelated_tnt.LHY1_colamp_a      MYB   LHY1    1  0.101   \n",
       "1    AT1G01060     MYBrelated_tnt.LHY1_col_a      MYB   LHY1    2  0.487   \n",
       "2    AT1G01720           NAC_tnt.ATAF1_col_a      NAC  ATAF1    3  0.087   \n",
       "3    AT1G02230         NAC_tnt.ANAC004_col_a      NAC   NAC4    4  0.321   \n",
       "4    AT1G02230      NAC_tnt.ANAC004_colamp_a      NAC   NAC4    5  0.153   \n",
       "..         ...                           ...      ...    ...  ...    ...   \n",
       "572  AT5G67190      AP2EREBP_tnt.DEAR2_col_a  AP2/ERF  DEAR2  573  0.095   \n",
       "573  AT5G67190   AP2EREBP_tnt.DEAR2_colamp_a  AP2/ERF  DEAR2  574  0.270   \n",
       "574  AT5G67300        MYB_tnt.MYB44_colamp_a      MYB  MYB44  575  0.011   \n",
       "575  AT5G67300           MYB_tnt.MYB44_col_b      MYB  MYB44  576  0.464   \n",
       "576  AT5G67580     MYBrelated_tnt.TBP3_col_a      MYB   TRB2  577  0.157   \n",
       "\n",
       "     number_of_peaks  \n",
       "0               3528  \n",
       "1              16509  \n",
       "2               3964  \n",
       "3               4206  \n",
       "4               7093  \n",
       "..               ...  \n",
       "572             1979  \n",
       "573            14168  \n",
       "574              516  \n",
       "575            12101  \n",
       "576             1697  \n",
       "\n",
       "[577 rows x 7 columns]"
      ]
     },
     "execution_count": 254,
     "metadata": {},
     "output_type": "execute_result"
    }
   ],
   "source": [
    "factor_data"
   ]
  },
  {
   "cell_type": "code",
   "execution_count": 257,
   "id": "17978091",
   "metadata": {},
   "outputs": [
    {
     "name": "stderr",
     "output_type": "stream",
     "text": [
      "100%|████████████████████████████████████████████████████████████████████████████████| 577/577 [36:10<00:00,  3.76s/it]\n"
     ]
    }
   ],
   "source": [
    "factor_lst = []\n",
    "for _factor in tqdm(range(len(factor_data['ID']))):\n",
    "    if bed_chr_sep(factor_data['ID'][_factor]+'.bed',file_dir=data_dir,save_dir=chromo_dir):\n",
    "        factor_lst.append(factor_data['ID'][_factor])"
   ]
  },
  {
   "cell_type": "code",
   "execution_count": 229,
   "id": "8fcf706f",
   "metadata": {},
   "outputs": [
    {
     "data": {
      "text/plain": [
       "['MYBrelated_tnt.LHY1_col_a',\n",
       " 'NAC_tnt.ATAF1_col_a',\n",
       " 'NAC_tnt.ANAC004_col_a',\n",
       " 'NAC_tnt.ANAC004_colamp_a',\n",
       " 'NAC_tnt.ANAC005_col_a',\n",
       " 'AP2EREBP_tnt.ERF10_col_a',\n",
       " 'C2H2_tnt.MGP_col_a',\n",
       " 'C2H2_tnt.MGP_colamp_a',\n",
       " 'ARID_tnt.AT1G04880_colamp_a']"
      ]
     },
     "execution_count": 229,
     "metadata": {},
     "output_type": "execute_result"
    }
   ],
   "source": [
    "factor_lst[1:10]"
   ]
  },
  {
   "cell_type": "markdown",
   "id": "c7347cbd",
   "metadata": {},
   "source": [
    "_____"
   ]
  },
  {
   "cell_type": "code",
   "execution_count": 29,
   "id": "703c9cf6",
   "metadata": {},
   "outputs": [],
   "source": [
    "markup_tair = pd.read_csv(\"списки генов/ups2000_tair10.bed\", sep=\"\\t\", header=None)"
   ]
  },
  {
   "cell_type": "code",
   "execution_count": 30,
   "id": "bddb9366",
   "metadata": {},
   "outputs": [],
   "source": [
    "for chr_name in ['chr1', 'chr2', 'chr3', 'chr4', 'chr5']:\n",
    "    markup_tair.loc[(markup_tair[0] == chr_name)].to_csv('ciscross_2/ups2000_tair10_'+chr_name+'.bed', header=None, index=None, sep='\\t')  "
   ]
  },
  {
   "cell_type": "code",
   "execution_count": 258,
   "id": "1ee9fde6",
   "metadata": {},
   "outputs": [],
   "source": [
    "markup_tair = pd.read_csv(\"списки генов/ups2000_tair10_DEG.bed\", sep=\"\\t\", header=None)"
   ]
  },
  {
   "cell_type": "code",
   "execution_count": 259,
   "id": "5e7ba27f",
   "metadata": {},
   "outputs": [],
   "source": [
    "for chr_name in ['chr1', 'chr2', 'chr3', 'chr4', 'chr5']:\n",
    "    markup_tair.loc[(markup_tair[0] == chr_name)].to_csv('ciscross_2/ups2000_tair10_DEG_'+chr_name+'.bed', header=None, index=None, sep='\\t')  "
   ]
  },
  {
   "cell_type": "code",
   "execution_count": 260,
   "id": "ea5b3b27",
   "metadata": {},
   "outputs": [],
   "source": [
    "markup_tair = pd.read_csv(\"списки генов/ups2000_tair10_notDEG.bed\", sep=\"\\t\", header=None)"
   ]
  },
  {
   "cell_type": "code",
   "execution_count": 261,
   "id": "104a926a",
   "metadata": {},
   "outputs": [],
   "source": [
    "for chr_name in ['chr1', 'chr2', 'chr3', 'chr4', 'chr5']:\n",
    "    markup_tair.loc[(markup_tair[0] == chr_name)].to_csv('ciscross_2/ups2000_tair10_notDEG_'+chr_name+'.bed', header=None, index=None, sep='\\t')  "
   ]
  },
  {
   "cell_type": "markdown",
   "id": "4dfb4b3e",
   "metadata": {},
   "source": [
    "## Script gen"
   ]
  },
  {
   "cell_type": "code",
   "execution_count": 2,
   "id": "64b26c9a",
   "metadata": {},
   "outputs": [],
   "source": [
    "files_lst = []\n",
    "for _file in os.listdir('for ciscross 2/'):\n",
    "    files_lst.append(_file.split('_chr')[0])"
   ]
  },
  {
   "cell_type": "code",
   "execution_count": 3,
   "id": "8d2cddf7",
   "metadata": {},
   "outputs": [],
   "source": [
    "files_lst = list(set(files_lst))"
   ]
  },
  {
   "cell_type": "code",
   "execution_count": 4,
   "id": "5901e6ca",
   "metadata": {},
   "outputs": [
    {
     "data": {
      "text/plain": [
       "['EIL_tnt.EIN3_col_a',\n",
       " 'NAC_tnt.ANAC004_colamp_a',\n",
       " 'AP2EREBP_tnt.ESE3_colamp_a_vs_ATAC',\n",
       " 'Orphan_tnt.BBX31_col_a_vs_ATAC',\n",
       " 'NAC_tnt.VND6_colamp_a',\n",
       " 'RWPRK_tnt.RKD2_colamp_a_vs_ATAC',\n",
       " 'MYB_tnt.MYB44_colamp_a',\n",
       " 'C2C2dof_tnt.OBP1_col_a',\n",
       " 'MYBrelated_tnt.At1g74840_col100_a_vs_ATAC']"
      ]
     },
     "execution_count": 4,
     "metadata": {},
     "output_type": "execute_result"
    }
   ],
   "source": [
    "files_lst[1:10]"
   ]
  },
  {
   "cell_type": "code",
   "execution_count": 5,
   "id": "139e7525",
   "metadata": {},
   "outputs": [],
   "source": [
    "script_file = open('script_ciscross2.bat','w')\n",
    "for _file in files_lst:\n",
    "    script_command = 'ciscross_2_code.exe ' + _file +\\\n",
    "    ' chr_lengths.txt chr_name.txt ups2000_tair10_DEG ups2000_tair10_notDEG 200 result.txt\\n'\n",
    "    script_file.write(script_command)\n",
    "script_file.close()"
   ]
  },
  {
   "cell_type": "markdown",
   "id": "6bae7fcb",
   "metadata": {},
   "source": [
    "_________________________________________________________"
   ]
  },
  {
   "cell_type": "code",
   "execution_count": 6,
   "id": "30dd1a4a",
   "metadata": {},
   "outputs": [
    {
     "name": "stderr",
     "output_type": "stream",
     "text": [
      "100%|███████████████████████████████████████████████████████████████████████████████| 373/373 [00:03<00:00, 111.87it/s]\n",
      "  5%|████                                                                             | 10/197 [00:00<00:01, 94.27it/s]"
     ]
    },
    {
     "name": "stdout",
     "output_type": "stream",
     "text": [
      "Общая разметка составляет  0.0022199768070772408 % и  0.0011170250199758756 % от исходных\n"
     ]
    },
    {
     "name": "stderr",
     "output_type": "stream",
     "text": [
      "100%|███████████████████████████████████████████████████████████████████████████████| 197/197 [00:01<00:00, 108.01it/s]\n",
      " 10%|████████                                                                        | 18/180 [00:00<00:00, 174.37it/s]"
     ]
    },
    {
     "name": "stdout",
     "output_type": "stream",
     "text": [
      "Общая разметка составляет  0.0025821334234341084 % и  0.002890842538469576 % от исходных\n"
     ]
    },
    {
     "name": "stderr",
     "output_type": "stream",
     "text": [
      "100%|███████████████████████████████████████████████████████████████████████████████| 180/180 [00:01<00:00, 139.00it/s]\n",
      " 15%|████████████▏                                                                   | 18/118 [00:00<00:00, 158.28it/s]"
     ]
    },
    {
     "name": "stdout",
     "output_type": "stream",
     "text": [
      "Общая разметка составляет  0.005229695336836533 % и  0.002538829248087168 % от исходных\n"
     ]
    },
    {
     "name": "stderr",
     "output_type": "stream",
     "text": [
      "100%|███████████████████████████████████████████████████████████████████████████████| 118/118 [00:00<00:00, 157.65it/s]\n",
      "  7%|█████▉                                                                          | 19/256 [00:00<00:01, 170.76it/s]"
     ]
    },
    {
     "name": "stdout",
     "output_type": "stream",
     "text": [
      "Общая разметка составляет  0.0045749480333697745 % и  0.00515005118939828 % от исходных\n"
     ]
    },
    {
     "name": "stderr",
     "output_type": "stream",
     "text": [
      "100%|███████████████████████████████████████████████████████████████████████████████| 256/256 [00:01<00:00, 146.81it/s]\n",
      " 12%|█████████▎                                                                      | 17/146 [00:00<00:00, 152.25it/s]"
     ]
    },
    {
     "name": "stdout",
     "output_type": "stream",
     "text": [
      "Общая разметка составляет  0.003529017579054462 % и  0.0018287618172568266 % от исходных\n"
     ]
    },
    {
     "name": "stderr",
     "output_type": "stream",
     "text": [
      "100%|███████████████████████████████████████████████████████████████████████████████| 146/146 [00:00<00:00, 161.37it/s]\n",
      "  8%|██████▊                                                                         | 19/224 [00:00<00:01, 179.04it/s]"
     ]
    },
    {
     "name": "stdout",
     "output_type": "stream",
     "text": [
      "Общая разметка составляет  0.0036704113178339616 % и  0.004214039211953876 % от исходных\n"
     ]
    },
    {
     "name": "stderr",
     "output_type": "stream",
     "text": [
      "100%|███████████████████████████████████████████████████████████████████████████████| 224/224 [00:01<00:00, 151.57it/s]\n",
      " 13%|██████████▏                                                                     | 16/126 [00:00<00:00, 149.39it/s]"
     ]
    },
    {
     "name": "stdout",
     "output_type": "stream",
     "text": [
      "Общая разметка составляет  0.0030509065550906557 % и  0.0015399660523039136 % от исходных\n"
     ]
    },
    {
     "name": "stderr",
     "output_type": "stream",
     "text": [
      "100%|███████████████████████████████████████████████████████████████████████████████| 126/126 [00:00<00:00, 163.86it/s]\n",
      "  6%|████▌                                                                           | 16/277 [00:00<00:01, 147.72it/s]"
     ]
    },
    {
     "name": "stdout",
     "output_type": "stream",
     "text": [
      "Общая разметка составляет  0.004720987889331797 % и  0.005401503501812046 % от исходных\n"
     ]
    },
    {
     "name": "stderr",
     "output_type": "stream",
     "text": [
      "100%|███████████████████████████████████████████████████████████████████████████████| 277/277 [00:02<00:00, 128.82it/s]\n",
      "  9%|██████▊                                                                         | 16/187 [00:00<00:01, 143.01it/s]"
     ]
    },
    {
     "name": "stdout",
     "output_type": "stream",
     "text": [
      "Общая разметка составляет  0.0028909075556855916 % и  0.0014829556964071995 % от исходных\n"
     ]
    },
    {
     "name": "stderr",
     "output_type": "stream",
     "text": [
      "100%|███████████████████████████████████████████████████████████████████████████████| 187/187 [00:01<00:00, 130.35it/s]"
     ]
    },
    {
     "name": "stdout",
     "output_type": "stream",
     "text": [
      "Общая разметка составляет  0.003602307773945005 % и  0.004058693561357427 % от исходных\n"
     ]
    },
    {
     "name": "stderr",
     "output_type": "stream",
     "text": [
      "\n"
     ]
    }
   ],
   "source": [
    "for chr_name in ['chr1', 'chr2', 'chr3', 'chr4', 'chr5']:\n",
    "    \n",
    "    markup_TF = pd.read_csv('ciscross_2/EIL_tnt.EIN3_col_a_'+chr_name+'.bed', sep=\"\\t\", header=None)\n",
    "    markup_ATAC = pd.read_csv('ciscross_2/GSM2704255_ATAC_'+chr_name+'.bed', sep=\"\\t\", header=None)\n",
    "    df_intrscts = build_intrscts(markup_TF, markup_ATAC)\n",
    "    df_intrscts.to_csv('ciscross_2/EIN3_col_a_vs_ATAC_'+chr_name+'.bed', header=None, index=None, sep='\\t')\n",
    "    \n",
    "    markup_TF = pd.read_csv('ciscross_2/EIL_tnt.EIN3_colamp_a_'+chr_name+'.bed', sep=\"\\t\", header=None)\n",
    "    df_intrscts = build_intrscts(markup_TF, markup_ATAC)\n",
    "    df_intrscts.to_csv('ciscross_2/EIN3_colamp_a_vs_ATAC_'+chr_name+'.bed', header=None, index=None, sep='\\t')"
   ]
  },
  {
   "cell_type": "code",
   "execution_count": null,
   "id": "14d20c0c",
   "metadata": {},
   "outputs": [],
   "source": []
  }
 ],
 "metadata": {
  "kernelspec": {
   "display_name": "Python 3",
   "language": "python",
   "name": "python3"
  },
  "language_info": {
   "codemirror_mode": {
    "name": "ipython",
    "version": 3
   },
   "file_extension": ".py",
   "mimetype": "text/x-python",
   "name": "python",
   "nbconvert_exporter": "python",
   "pygments_lexer": "ipython3",
   "version": "3.8.5"
  }
 },
 "nbformat": 4,
 "nbformat_minor": 5
}
